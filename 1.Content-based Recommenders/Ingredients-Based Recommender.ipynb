{
 "cells": [
  {
   "cell_type": "code",
   "execution_count": 1,
   "id": "3f00fd3b",
   "metadata": {},
   "outputs": [
    {
     "data": {
      "text/html": [
       "<div>\n",
       "<style scoped>\n",
       "    .dataframe tbody tr th:only-of-type {\n",
       "        vertical-align: middle;\n",
       "    }\n",
       "\n",
       "    .dataframe tbody tr th {\n",
       "        vertical-align: top;\n",
       "    }\n",
       "\n",
       "    .dataframe thead th {\n",
       "        text-align: right;\n",
       "    }\n",
       "</style>\n",
       "<table border=\"1\" class=\"dataframe\">\n",
       "  <thead>\n",
       "    <tr style=\"text-align: right;\">\n",
       "      <th></th>\n",
       "      <th>index</th>\n",
       "      <th>name</th>\n",
       "      <th>time</th>\n",
       "      <th>no_of_ppl</th>\n",
       "      <th>prep_time</th>\n",
       "      <th>caloaries</th>\n",
       "      <th>ingredients</th>\n",
       "      <th>prep</th>\n",
       "      <th>img_link</th>\n",
       "    </tr>\n",
       "  </thead>\n",
       "  <tbody>\n",
       "    <tr>\n",
       "      <th>0</th>\n",
       "      <td>0</td>\n",
       "      <td>شيش طاووق</td>\n",
       "      <td>غداء</td>\n",
       "      <td>6</td>\n",
       "      <td>40</td>\n",
       "      <td>186.00</td>\n",
       "      <td>500 جم دجاج مخلي مقطع مكعبات ويفضل الأور...</td>\n",
       "      <td>تبلي قطع ومكعبات الدجاج بالتتبيلة بعد ما...</td>\n",
       "      <td>https://www.supermama.me/system/App/Entities/R...</td>\n",
       "    </tr>\n",
       "    <tr>\n",
       "      <th>1</th>\n",
       "      <td>1</td>\n",
       "      <td>مكرونة بالدجاج والمشروم</td>\n",
       "      <td>غداء</td>\n",
       "      <td>4</td>\n",
       "      <td>30</td>\n",
       "      <td>867.00</td>\n",
       "      <td>250 جم  مكرونة بالشكل الذي تفضلينه ...</td>\n",
       "      <td>اسلقي المكرونة، وأضيفي بعض الملح وملعقة...</td>\n",
       "      <td>https://www.supermama.me/system/App/Entities/R...</td>\n",
       "    </tr>\n",
       "    <tr>\n",
       "      <th>2</th>\n",
       "      <td>2</td>\n",
       "      <td>اللازانيا</td>\n",
       "      <td>غداء</td>\n",
       "      <td>4</td>\n",
       "      <td>30</td>\n",
       "      <td>427.10</td>\n",
       "      <td>2 ملعقة كبيرة زيت   ,   خضروات   ,  100 جم بص...</td>\n",
       "      <td>سخني الفرن.   ,   سخني الزيت في إناء يصل...</td>\n",
       "      <td>https://www.supermama.me/system/App/Entities/R...</td>\n",
       "    </tr>\n",
       "    <tr>\n",
       "      <th>3</th>\n",
       "      <td>3</td>\n",
       "      <td>المكرونة بالبشاميل</td>\n",
       "      <td>غداء</td>\n",
       "      <td>8</td>\n",
       "      <td>60</td>\n",
       "      <td>379.81</td>\n",
       "      <td>500 جم مكرونة مقصوصة  ,   30 جم دقيق  ,   1000...</td>\n",
       "      <td>في إناء على النار، سخني السمن جيدًا.  , ...</td>\n",
       "      <td>https://www.supermama.me/system/App/Entities/R...</td>\n",
       "    </tr>\n",
       "    <tr>\n",
       "      <th>4</th>\n",
       "      <td>4</td>\n",
       "      <td>أرز بالكبد والقوانص</td>\n",
       "      <td>غداء</td>\n",
       "      <td>4</td>\n",
       "      <td>40</td>\n",
       "      <td>624.00</td>\n",
       "      <td>500 جم كبد وقوانص  ,  300 جم  أرز  ,   2...</td>\n",
       "      <td>ضعي الزبد على النار، ثم أضيفي البصل وشوح...</td>\n",
       "      <td>https://www.supermama.me/system/App/Entities/R...</td>\n",
       "    </tr>\n",
       "    <tr>\n",
       "      <th>5</th>\n",
       "      <td>5</td>\n",
       "      <td>دجاج كنتاكي</td>\n",
       "      <td>غداء</td>\n",
       "      <td>6</td>\n",
       "      <td>60</td>\n",
       "      <td>205.00</td>\n",
       "      <td>2000 مل ماء  ,   90 جم ملح  ,   2 معلقة كبيرة...</td>\n",
       "      <td>اخلطي الماء و الصويا و ثلث كوب ملح ، قم ...</td>\n",
       "      <td>https://www.supermama.me/system/App/Entities/R...</td>\n",
       "    </tr>\n",
       "    <tr>\n",
       "      <th>6</th>\n",
       "      <td>6</td>\n",
       "      <td>صينية بطاطس بالفراخ</td>\n",
       "      <td>غداء</td>\n",
       "      <td>4</td>\n",
       "      <td>45</td>\n",
       "      <td>274.00</td>\n",
       "      <td>1000 جم بطاطس  ,   دجاجة مقطعة إلى أربع قطع أ...</td>\n",
       "      <td>تبلي الدجاج بالبصل والثوم والبهارات والم...</td>\n",
       "      <td>https://www.supermama.me/system/App/Entities/R...</td>\n",
       "    </tr>\n",
       "    <tr>\n",
       "      <th>7</th>\n",
       "      <td>7</td>\n",
       "      <td>دجاج تكا مشوي</td>\n",
       "      <td>غداء</td>\n",
       "      <td>8</td>\n",
       "      <td>60</td>\n",
       "      <td>66.00</td>\n",
       "      <td>دجاجتين كبيرتين مغسولتين و مقطعتين الى اربع ق...</td>\n",
       "      <td>تشرح قطع الدجاج بواسطة سكين حاد , الى ان...</td>\n",
       "      <td>https://www.supermama.me/system/App/Entities/R...</td>\n",
       "    </tr>\n",
       "    <tr>\n",
       "      <th>8</th>\n",
       "      <td>8</td>\n",
       "      <td>ديك رومي مشوي في الفرن</td>\n",
       "      <td>غداء</td>\n",
       "      <td>6</td>\n",
       "      <td>180</td>\n",
       "      <td>400.00</td>\n",
       "      <td>ديك كامل  6000 – 8000 جم   ,   200 جم زبد مُذ...</td>\n",
       "      <td>في وعاء كبير، ضعي الماء والسكر والملح وع...</td>\n",
       "      <td>https://www.supermama.me/system/App/Entities/R...</td>\n",
       "    </tr>\n",
       "    <tr>\n",
       "      <th>9</th>\n",
       "      <td>9</td>\n",
       "      <td>لفائف الباذنجان بالمكرونة</td>\n",
       "      <td>غداء</td>\n",
       "      <td>6</td>\n",
       "      <td>30</td>\n",
       "      <td>401.00</td>\n",
       "      <td>400 جم  إسباجتي مسلوقة   ,   3 ثمرات باذن...</td>\n",
       "      <td>سخني الفرن عند درجة حرارة 180 درجة مئوية...</td>\n",
       "      <td>https://www.supermama.me/system/App/Entities/R...</td>\n",
       "    </tr>\n",
       "  </tbody>\n",
       "</table>\n",
       "</div>"
      ],
      "text/plain": [
       "   index                                       name  time  no_of_ppl  \\\n",
       "0      0                        شيش طاووق            غداء          6   \n",
       "1      1          مكرونة بالدجاج والمشروم            غداء          4   \n",
       "2      2                          اللازانيا          غداء          4   \n",
       "3      3               المكرونة بالبشاميل            غداء          8   \n",
       "4      4              أرز بالكبد والقوانص            غداء          4   \n",
       "5      5                      دجاج كنتاكي            غداء          6   \n",
       "6      6              صينية بطاطس بالفراخ            غداء          4   \n",
       "7      7                    دجاج تكا مشوي            غداء          8   \n",
       "8      8           ديك رومي مشوي في الفرن            غداء          6   \n",
       "9      9        لفائف الباذنجان بالمكرونة            غداء          6   \n",
       "\n",
       "   prep_time  caloaries                                        ingredients  \\\n",
       "0         40     186.00        500 جم دجاج مخلي مقطع مكعبات ويفضل الأور...   \n",
       "1         30     867.00             250 جم  مكرونة بالشكل الذي تفضلينه ...   \n",
       "2         30     427.10   2 ملعقة كبيرة زيت   ,   خضروات   ,  100 جم بص...   \n",
       "3         60     379.81  500 جم مكرونة مقصوصة  ,   30 جم دقيق  ,   1000...   \n",
       "4         40     624.00        500 جم كبد وقوانص  ,  300 جم  أرز  ,   2...   \n",
       "5         60     205.00   2000 مل ماء  ,   90 جم ملح  ,   2 معلقة كبيرة...   \n",
       "6         45     274.00   1000 جم بطاطس  ,   دجاجة مقطعة إلى أربع قطع أ...   \n",
       "7         60      66.00   دجاجتين كبيرتين مغسولتين و مقطعتين الى اربع ق...   \n",
       "8        180     400.00   ديك كامل  6000 – 8000 جم   ,   200 جم زبد مُذ...   \n",
       "9         30     401.00       400 جم  إسباجتي مسلوقة   ,   3 ثمرات باذن...   \n",
       "\n",
       "                                                prep  \\\n",
       "0        تبلي قطع ومكعبات الدجاج بالتتبيلة بعد ما...   \n",
       "1         اسلقي المكرونة، وأضيفي بعض الملح وملعقة...   \n",
       "2        سخني الفرن.   ,   سخني الزيت في إناء يصل...   \n",
       "3        في إناء على النار، سخني السمن جيدًا.  , ...   \n",
       "4        ضعي الزبد على النار، ثم أضيفي البصل وشوح...   \n",
       "5        اخلطي الماء و الصويا و ثلث كوب ملح ، قم ...   \n",
       "6        تبلي الدجاج بالبصل والثوم والبهارات والم...   \n",
       "7        تشرح قطع الدجاج بواسطة سكين حاد , الى ان...   \n",
       "8        في وعاء كبير، ضعي الماء والسكر والملح وع...   \n",
       "9        سخني الفرن عند درجة حرارة 180 درجة مئوية...   \n",
       "\n",
       "                                            img_link  \n",
       "0  https://www.supermama.me/system/App/Entities/R...  \n",
       "1  https://www.supermama.me/system/App/Entities/R...  \n",
       "2  https://www.supermama.me/system/App/Entities/R...  \n",
       "3  https://www.supermama.me/system/App/Entities/R...  \n",
       "4  https://www.supermama.me/system/App/Entities/R...  \n",
       "5  https://www.supermama.me/system/App/Entities/R...  \n",
       "6  https://www.supermama.me/system/App/Entities/R...  \n",
       "7  https://www.supermama.me/system/App/Entities/R...  \n",
       "8  https://www.supermama.me/system/App/Entities/R...  \n",
       "9  https://www.supermama.me/system/App/Entities/R...  "
      ]
     },
     "execution_count": 1,
     "metadata": {},
     "output_type": "execute_result"
    }
   ],
   "source": [
    "import pandas as pd\n",
    "import numpy as np\n",
    "\n",
    "df = pd.read_csv('foods.csv')\n",
    "df.head(10)"
   ]
  },
  {
   "cell_type": "code",
   "execution_count": 2,
   "id": "cc91e1e0",
   "metadata": {},
   "outputs": [
    {
     "data": {
      "text/plain": [
       "index          0\n",
       "name           0\n",
       "time           0\n",
       "no_of_ppl      0\n",
       "prep_time      0\n",
       "caloaries      0\n",
       "ingredients    0\n",
       "prep           0\n",
       "img_link       0\n",
       "dtype: int64"
      ]
     },
     "execution_count": 2,
     "metadata": {},
     "output_type": "execute_result"
    }
   ],
   "source": [
    "#check for null values\n",
    "df.isnull().sum()"
   ]
  },
  {
   "cell_type": "code",
   "execution_count": 3,
   "id": "42280c64",
   "metadata": {},
   "outputs": [
    {
     "data": {
      "text/plain": [
       "' ديك كامل  6000 – 8000 جم   ,   200 جم زبد مُذاب.  ,   250 مل عصير برتقال.  ,   بصلة كبيرة مقطعة شرائح رفيعة.  ,   3 ثمرات كرفس مقطعة شرائح.  ,   25 جم زعتر طازج مفروم.  ,   2 ملعقة كبيرة روزماري طازج مفروم.  ,  1 ملعقة كبيرة  ثوم مفروم.  ,  1 ملعقة صغيرة  بابريكا.  , 1  ملعقة صغيرة  السبعة بهارات.  ,  1 ملعقة صغيرة  كاري.  ,   ملح وفلفل أسود.      '"
      ]
     },
     "execution_count": 3,
     "metadata": {},
     "output_type": "execute_result"
    }
   ],
   "source": [
    "df.iloc[8]['ingredients']"
   ]
  },
  {
   "cell_type": "code",
   "execution_count": 4,
   "id": "41da10f4",
   "metadata": {},
   "outputs": [],
   "source": [
    "# Data Normalization\n",
    "import unicodedata as ud\n",
    "import re\n",
    "\n",
    "def cleanText(txt):\n",
    "    #Remove Punctuations\n",
    "    puncText = ''.join(c for c in txt if not ud.category(c).startswith('P'))\n",
    "    \n",
    "    tokenText1 = puncText.split(' ')\n",
    "    #Remove StopWord\n",
    "    SWList = []\n",
    "    stopWordList = open(\"arabic-stop-words.txt\").read().splitlines()\n",
    "    for token in tokenText1:\n",
    "        if token not in stopWordList:\n",
    "            SWList.append(token)\n",
    "    SWText = ' '.join(SWList)\n",
    "    \n",
    "    #Remove arabic number\n",
    "    ctxt = re.sub('[\\u0660-\\u0669]','',SWText)\n",
    "    \n",
    "    #Remove English number\n",
    "    ctxt = re.sub('[0-9]+','',ctxt)\n",
    "    \n",
    "    newtxt = []\n",
    "    filterWords = open(\"Filtered-Words.txt\").read().splitlines()\n",
    "    tokenText2 = ctxt.split(' ') \n",
    "    for token in tokenText2:\n",
    "        if token not in filterWords:\n",
    "            newtxt.append(token)\n",
    "    newtxt = ' '.join(newtxt)\n",
    "    \n",
    "    return newtxt\n",
    "    "
   ]
  },
  {
   "cell_type": "code",
   "execution_count": 5,
   "id": "80b345cf",
   "metadata": {},
   "outputs": [
    {
     "data": {
      "text/plain": [
       "' ديك كامل           زبد مُذاب      عصير برتقال     بصلة مقطعة رفيعة      ثمرات كرفس مقطعة      زعتر طازج مفروم      روزماري طازج مفروم      ثوم مفروم      بابريكا      السبعة بهارات      كاري     ملح وفلفل أسود      '"
      ]
     },
     "execution_count": 5,
     "metadata": {},
     "output_type": "execute_result"
    }
   ],
   "source": [
    "df['ingredients'] = df['ingredients'].apply(cleanText)\n",
    "df.iloc[8]['ingredients']"
   ]
  },
  {
   "cell_type": "code",
   "execution_count": 6,
   "id": "987aede4",
   "metadata": {},
   "outputs": [
    {
     "data": {
      "text/plain": [
       "'      المكرونة بالبشاميل          '"
      ]
     },
     "execution_count": 6,
     "metadata": {},
     "output_type": "execute_result"
    }
   ],
   "source": [
    "df['name'][3]"
   ]
  },
  {
   "cell_type": "code",
   "execution_count": 7,
   "id": "a2b224c6",
   "metadata": {},
   "outputs": [],
   "source": [
    "#Remove leading and ending spaces\n",
    "def cleanSpacing(txt):\n",
    "    return txt.strip()\n",
    "\n",
    "for dc in 'name','ingredients','prep':\n",
    "    df[dc] = df[dc].apply(cleanSpacing)"
   ]
  },
  {
   "cell_type": "code",
   "execution_count": 8,
   "id": "8349da89",
   "metadata": {},
   "outputs": [
    {
     "data": {
      "text/plain": [
       "'المكرونة بالبشاميل'"
      ]
     },
     "execution_count": 8,
     "metadata": {},
     "output_type": "execute_result"
    }
   ],
   "source": [
    "df['name'][3]"
   ]
  },
  {
   "cell_type": "code",
   "execution_count": 9,
   "id": "bbd65a6a",
   "metadata": {},
   "outputs": [],
   "source": [
    "def cleanInsideSpaceing(txt):\n",
    "    txt = ' '.join(txt.split())\n",
    "    return txt\n",
    "\n",
    "df['ingredients'] = df['ingredients'].apply(cleanInsideSpaceing)\n"
   ]
  },
  {
   "cell_type": "code",
   "execution_count": 10,
   "id": "df8433af",
   "metadata": {},
   "outputs": [
    {
     "data": {
      "text/plain": [
       "'ديك كامل زبد مُذاب عصير برتقال بصلة مقطعة رفيعة ثمرات كرفس مقطعة زعتر طازج مفروم روزماري طازج مفروم ثوم مفروم بابريكا السبعة بهارات كاري ملح وفلفل أسود'"
      ]
     },
     "execution_count": 10,
     "metadata": {},
     "output_type": "execute_result"
    }
   ],
   "source": [
    "df.loc[8]['ingredients']"
   ]
  },
  {
   "cell_type": "code",
   "execution_count": 11,
   "id": "6703026c",
   "metadata": {},
   "outputs": [],
   "source": [
    "\n",
    "\n",
    "#Import TfIdfVectorizer from the scikit-learn library\n",
    "from sklearn.metrics.pairwise import linear_kernel\n",
    "from sklearn.feature_extraction.text import TfidfVectorizer\n",
    "tfIdf = TfidfVectorizer()\n",
    "\n",
    "# tfIdf_matrix = tfIdf.fit_transform(df['ingredients'])\n",
    "# tfIdf_matrix.shape"
   ]
  },
  {
   "cell_type": "code",
   "execution_count": 12,
   "id": "de684798",
   "metadata": {},
   "outputs": [],
   "source": [
    "# Import linear_kernel to compute the dot product and cosine similarity matrix\n",
    "# from sklearn.metrics.pairwise import linear_kernel\n",
    "\n",
    "# cosine_sim = linear_kernel(tfIdf_matrix, tfIdf_matrix)\n",
    "# cosine_sim[0:3]"
   ]
  },
  {
   "cell_type": "code",
   "execution_count": 188,
   "id": "96ed4b73",
   "metadata": {},
   "outputs": [],
   "source": [
    "# #Construct a reverse mapping of indices and Meal titles, and drop duplicate titles\n",
    "# indices = pd.Series(df.index, index=df['name']).drop_duplicates()\n",
    "\n",
    "# indices[0:20]"
   ]
  },
  {
   "cell_type": "code",
   "execution_count": 24,
   "id": "60ed889b",
   "metadata": {},
   "outputs": [],
   "source": [
    "# Function that takes in Meal title as input and gives recommendations\n",
    "def contentRecommender(ingredients):\n",
    "    \n",
    "    ingredientsInput = pd.Series(ingredients)\n",
    "    X = df['ingredients'].append(ingredientsInput, ignore_index=True)\n",
    "    \n",
    "    tfIdf_matrix = tfIdf.fit_transform(X)\n",
    "    \n",
    "    cosine_sim = linear_kernel(tfIdf_matrix, tfIdf_matrix)\n",
    "    \n",
    "    indices = pd.Series(X.index, index=X).drop_duplicates()\n",
    "        \n",
    "    idx = indices[X.iloc[-1]]\n",
    "    \n",
    "    # Get the pairwsie similarity scores of all Meals with that Meal\n",
    "    # And convert it into a list of tuples \n",
    "    simScores = list(enumerate(cosine_sim[idx]))\n",
    "    print(simScores[1])\n",
    "    # Sort the Meal based on the cosine similarity scores\n",
    "    simScores = sorted(simScores, key=lambda x: x[1], reverse=True)\n",
    "    \n",
    "    # Get the scores of the 10 most similar Meals. Ignore the first Meal.\n",
    "    simScores = simScores[1:11]\n",
    "    \n",
    "    # Get the Meal indices\n",
    "    mealsIndices = [i[0] for i in simScores]\n",
    "    \n",
    "    # Return the top 10 most similar Meals\n",
    "    return df['name'].iloc[mealsIndices]\n",
    " "
   ]
  },
  {
   "cell_type": "code",
   "execution_count": 25,
   "id": "3484e671",
   "metadata": {},
   "outputs": [
    {
     "name": "stdout",
     "output_type": "stream",
     "text": [
      "(1, array([0.07775428, 0.04162978, 0.07571711, 0.02198228, 0.06422541,\n",
      "       0.01095643, 0.08935722, 0.00177066, 1.        , 0.1597169 ,\n",
      "       0.11868195, 0.06326946, 0.06167721, 0.02787551, 0.07512784,\n",
      "       0.03238625, 0.18546801, 0.10409667, 0.1397231 , 0.10199098,\n",
      "       0.18946689, 0.02462179, 0.12400346, 0.09183822, 0.15889832,\n",
      "       0.08033796, 0.03774378, 0.07993167, 0.01008109, 0.22954725,\n",
      "       0.09713254, 0.00989457, 0.0143193 , 0.        , 0.06429747,\n",
      "       1.        , 0.18546801, 0.07026781, 0.07869973, 0.17150426,\n",
      "       0.15821299, 0.07401066, 0.0310821 , 0.02103978, 0.01099167,\n",
      "       0.01233517, 0.04691668, 0.09843415, 0.        , 0.08135643,\n",
      "       0.08162119, 0.        , 0.        , 0.01863386, 0.20547837,\n",
      "       0.22331017, 0.16391979, 0.        , 0.11037528, 0.139498  ,\n",
      "       0.05300885, 0.09643733, 0.04197442, 0.07624411, 0.03223537,\n",
      "       0.08697662, 0.21573931, 0.09228618, 0.09735749, 0.30229606,\n",
      "       0.19964282, 0.19706651, 0.13365636, 0.0724591 , 0.00747081,\n",
      "       0.0164757 , 0.09244686, 0.23793385, 0.20302607, 0.08080115,\n",
      "       0.12712679, 0.05156376, 0.11116702, 0.03077707, 0.17200567,\n",
      "       0.2345879 , 0.03179495, 0.07014792, 0.15483531, 0.12438977,\n",
      "       0.0775932 , 0.        , 0.12218493, 0.12411256, 0.05293778,\n",
      "       0.03951995, 0.08389073, 0.04731887, 0.02081264, 0.13243467,\n",
      "       0.07358916, 0.06383397, 0.00372161, 0.        , 0.        ,\n",
      "       0.00536754, 0.14447077, 0.09146398, 0.07325751, 0.15006178,\n",
      "       0.03596907, 0.1334015 , 0.08479722, 0.1095705 , 0.20527884,\n",
      "       0.01706853, 0.0102296 , 0.13950358, 0.18643078, 0.10190509,\n",
      "       0.09242062, 0.        , 0.03324656, 0.0438989 , 0.        ,\n",
      "       0.        , 0.05163893, 0.14398434, 0.0517637 , 0.05326599,\n",
      "       0.00704773, 0.01531795, 0.        , 0.10321367, 0.15032516,\n",
      "       0.14482956, 0.10658461, 0.12923467, 0.10995764, 0.08510409,\n",
      "       0.10098454, 0.27004834, 0.01411893, 0.26593948, 0.13348321,\n",
      "       0.07450538, 0.20186505, 0.1270415 , 0.0303196 , 0.03779941,\n",
      "       0.00558386, 0.00630177, 0.04635159, 0.063258  , 0.13838863,\n",
      "       0.13413565, 0.094845  , 0.12670712, 0.08681722, 0.07274868,\n",
      "       0.05545258, 0.05063583, 0.08379575, 0.14756917, 0.25323589,\n",
      "       0.00594793, 0.00664261, 0.00820066, 0.03132428, 0.06960937,\n",
      "       0.03617101, 0.00514815, 0.01324945, 0.04377292, 0.00498787,\n",
      "       0.00478381, 0.11694326, 0.03271189, 0.14672901, 0.12188877,\n",
      "       0.04300034, 0.03082002, 0.00563692, 0.02217175, 0.08788817,\n",
      "       0.        , 0.        , 0.03416098, 0.09607312, 0.1227669 ,\n",
      "       0.09773904, 0.12985649, 0.04911797, 0.00527705, 0.15970875,\n",
      "       0.05428614, 0.09928905, 0.01912226, 0.09967093, 0.1641642 ,\n",
      "       0.05484201, 0.16391979, 0.12341479, 0.19376779, 0.0992593 ,\n",
      "       0.04288621, 0.05582548, 0.06775799, 0.04239811, 0.15969643,\n",
      "       0.14133296, 0.02820389, 0.1270415 , 0.        , 0.20186505,\n",
      "       0.09771359, 0.19114687, 0.12861294, 0.0860857 , 0.08697662,\n",
      "       0.14828321, 0.        , 0.        , 0.08655894, 0.        ,\n",
      "       0.        , 0.        , 0.00516625, 0.02544094, 0.05553708,\n",
      "       0.        , 0.        , 0.0129906 , 0.02612246, 0.        ,\n",
      "       0.        , 0.        , 0.04094538, 0.03461202, 0.        ,\n",
      "       0.01360259, 0.        , 0.0197316 , 0.        , 0.08953438,\n",
      "       0.        , 0.10175139, 0.        , 0.        , 0.20536996,\n",
      "       0.06876051, 0.16383106, 0.1870093 , 0.2125837 , 0.10845165,\n",
      "       0.13850223, 0.00512708, 0.00884246, 0.0382825 , 0.00704512,\n",
      "       0.00742814, 0.00589138, 0.0058514 , 0.08444933, 0.00879044,\n",
      "       0.00757389, 0.00757389, 0.10246469, 0.10574697, 0.14040059,\n",
      "       0.23084243, 0.14047983, 0.07069272, 0.17601796, 0.1129651 ,\n",
      "       0.00313501, 0.10966144, 0.18978681, 0.06185951, 0.07478572,\n",
      "       0.1525436 , 0.10496067, 0.016281  , 0.10777498, 0.09636945,\n",
      "       0.03500162, 0.15836549, 0.14375704, 0.10038072, 0.07025295,\n",
      "       0.13644139, 0.06530601, 0.09623617, 0.13392061, 0.17339687,\n",
      "       0.08200592, 0.03034439, 0.11293744, 0.01832688, 0.29526612,\n",
      "       0.00695517, 0.22012687, 0.14013654, 0.05925901, 0.14672901,\n",
      "       0.10406101, 0.09488013, 0.16179802, 0.13327288, 0.07245755,\n",
      "       0.0749025 , 0.11532864, 0.15299216, 0.07551827, 0.13796451,\n",
      "       0.15385025, 0.0497081 , 0.08804034, 0.03396474, 0.08858834,\n",
      "       0.04422264, 0.03432173, 0.11880586, 0.04229853, 0.04630989,\n",
      "       0.19292186, 0.13133823, 0.24859144, 0.02358779, 0.05719741,\n",
      "       0.13564635, 0.08079945, 0.18197203, 0.13783082, 0.14358108,\n",
      "       0.00397922, 0.02170712, 0.09758513, 0.17989918, 0.08225543,\n",
      "       0.1231222 , 0.23829694, 0.05451186, 0.15017185, 0.00861836,\n",
      "       0.04243331, 0.18806674, 0.15627012, 0.07136108, 0.15928686,\n",
      "       0.14978007, 0.12983321, 0.01946148, 0.15712084, 0.053024  ,\n",
      "       0.11936983, 0.08425043, 0.08425717, 0.14047983, 0.12606579,\n",
      "       0.25755154, 0.14210699, 0.07788937, 0.06344425, 0.08225704,\n",
      "       0.00622514, 0.04013668, 0.05119447, 0.07386987, 0.08266704,\n",
      "       0.01320779, 0.09517055, 0.11077292, 0.11812094, 0.12658456,\n",
      "       0.16378819, 0.10726567, 0.08194086, 0.06853282, 0.07006276,\n",
      "       0.03756452, 0.09685267, 0.18217807, 0.1278099 , 0.03436041,\n",
      "       0.1057312 , 0.04235806, 0.11578896, 0.11018449, 0.15615766,\n",
      "       0.03412888, 0.11766532, 0.11966679, 0.00636882, 0.        ,\n",
      "       0.11696412, 0.08576131, 0.12237394, 0.09342507, 0.28038849,\n",
      "       0.20545951, 0.10869253, 0.19944943, 0.08785263, 0.0066549 ,\n",
      "       0.1490838 , 0.0681934 , 0.04742621, 0.03474969, 0.03348738,\n",
      "       0.03348738, 0.03710913, 0.04383456, 0.00613367, 0.09913443,\n",
      "       0.00579434, 0.19526764, 0.13005057, 0.02723459, 0.20430115,\n",
      "       0.2063229 , 0.07480165, 0.18997483, 0.05211024, 0.12985649,\n",
      "       0.06388549, 0.08520458, 0.01133881, 0.09390655, 0.11342174,\n",
      "       0.12983321, 0.15072988, 0.18362211, 0.20861452, 0.12536978,\n",
      "       0.02147645, 0.05981482, 0.26748542, 0.06113648, 0.05302233,\n",
      "       0.11876074, 0.00471797, 0.08673236, 0.16242631, 0.00864265,\n",
      "       0.16454577, 0.02471347, 0.07864445, 0.13709115, 0.1656663 ,\n",
      "       0.03185232, 0.1832587 , 0.0242474 , 0.13315735, 0.04949423,\n",
      "       0.0873658 , 0.15599851, 0.12328707, 0.07906775, 0.08248038,\n",
      "       0.2179921 , 0.14719412, 0.05273824, 0.13926748, 0.10834704,\n",
      "       0.17224171, 0.17759068, 0.02038695, 0.15712099, 0.14425175,\n",
      "       0.05991667, 0.0528236 , 0.18630704, 0.13737379, 0.09321445,\n",
      "       0.15244754, 0.11194706, 0.11867701, 0.09355543, 0.15618392,\n",
      "       0.11917538, 0.13895466, 0.01177966, 0.0656992 , 0.03466435,\n",
      "       0.06826754, 0.03011361, 0.17578276, 0.07201047, 1.        ]))\n"
     ]
    },
    {
     "ename": "ValueError",
     "evalue": "The truth value of an array with more than one element is ambiguous. Use a.any() or a.all()",
     "output_type": "error",
     "traceback": [
      "\u001b[0;31m---------------------------------------------------------------------------\u001b[0m",
      "\u001b[0;31mValueError\u001b[0m                                Traceback (most recent call last)",
      "\u001b[0;32m/var/folders/34/f9_zspms2z3cctnc45ym9f040000gn/T/ipykernel_4435/1553807869.py\u001b[0m in \u001b[0;36m<module>\u001b[0;34m\u001b[0m\n\u001b[0;32m----> 1\u001b[0;31m \u001b[0mcontentRecommender\u001b[0m\u001b[0;34m(\u001b[0m\u001b[0;34m'ديك كامل زبد مُذاب عصير برتقال بصلة مقطعة رفيعة ثمرات كرفس مقطعة زعتر طازج مفروم روزماري طازج مفروم ثوم مفروم بابريكا السبعة بهارات كاري ملح وفلفل أسود'\u001b[0m\u001b[0;34m)\u001b[0m\u001b[0;34m\u001b[0m\u001b[0;34m\u001b[0m\u001b[0m\n\u001b[0m",
      "\u001b[0;32m/var/folders/34/f9_zspms2z3cctnc45ym9f040000gn/T/ipykernel_4435/478240540.py\u001b[0m in \u001b[0;36mcontentRecommender\u001b[0;34m(ingredients)\u001b[0m\n\u001b[1;32m     18\u001b[0m     \u001b[0mprint\u001b[0m\u001b[0;34m(\u001b[0m\u001b[0msimScores\u001b[0m\u001b[0;34m[\u001b[0m\u001b[0;36m1\u001b[0m\u001b[0;34m]\u001b[0m\u001b[0;34m)\u001b[0m\u001b[0;34m\u001b[0m\u001b[0;34m\u001b[0m\u001b[0m\n\u001b[1;32m     19\u001b[0m     \u001b[0;31m# Sort the Meal based on the cosine similarity scores\u001b[0m\u001b[0;34m\u001b[0m\u001b[0;34m\u001b[0m\u001b[0m\n\u001b[0;32m---> 20\u001b[0;31m     \u001b[0msimScores\u001b[0m \u001b[0;34m=\u001b[0m \u001b[0msorted\u001b[0m\u001b[0;34m(\u001b[0m\u001b[0msimScores\u001b[0m\u001b[0;34m,\u001b[0m \u001b[0mkey\u001b[0m\u001b[0;34m=\u001b[0m\u001b[0;32mlambda\u001b[0m \u001b[0mx\u001b[0m\u001b[0;34m:\u001b[0m \u001b[0mx\u001b[0m\u001b[0;34m[\u001b[0m\u001b[0;36m1\u001b[0m\u001b[0;34m]\u001b[0m\u001b[0;34m,\u001b[0m \u001b[0mreverse\u001b[0m\u001b[0;34m=\u001b[0m\u001b[0;32mTrue\u001b[0m\u001b[0;34m)\u001b[0m\u001b[0;34m\u001b[0m\u001b[0;34m\u001b[0m\u001b[0m\n\u001b[0m\u001b[1;32m     21\u001b[0m \u001b[0;34m\u001b[0m\u001b[0m\n\u001b[1;32m     22\u001b[0m     \u001b[0;31m# Get the scores of the 10 most similar Meals. Ignore the first Meal.\u001b[0m\u001b[0;34m\u001b[0m\u001b[0;34m\u001b[0m\u001b[0m\n",
      "\u001b[0;31mValueError\u001b[0m: The truth value of an array with more than one element is ambiguous. Use a.any() or a.all()"
     ]
    }
   ],
   "source": [
    "\n",
    "contentRecommender('ديك كامل زبد مُذاب عصير برتقال بصلة مقطعة رفيعة ثمرات كرفس مقطعة زعتر طازج مفروم روزماري طازج مفروم ثوم مفروم بابريكا السبعة بهارات كاري ملح وفلفل أسود')\n"
   ]
  },
  {
   "cell_type": "code",
   "execution_count": null,
   "id": "4bb0eb53",
   "metadata": {},
   "outputs": [],
   "source": []
  },
  {
   "cell_type": "code",
   "execution_count": null,
   "id": "ed44cd38",
   "metadata": {},
   "outputs": [],
   "source": []
  }
 ],
 "metadata": {
  "kernelspec": {
   "display_name": "Python 3 (ipykernel)",
   "language": "python",
   "name": "python3"
  },
  "language_info": {
   "codemirror_mode": {
    "name": "ipython",
    "version": 3
   },
   "file_extension": ".py",
   "mimetype": "text/x-python",
   "name": "python",
   "nbconvert_exporter": "python",
   "pygments_lexer": "ipython3",
   "version": "3.9.7"
  }
 },
 "nbformat": 4,
 "nbformat_minor": 5
}
