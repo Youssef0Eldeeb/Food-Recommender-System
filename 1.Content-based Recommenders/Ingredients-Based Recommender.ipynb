{
 "cells": [
  {
   "cell_type": "code",
   "execution_count": 2,
   "id": "3f00fd3b",
   "metadata": {},
   "outputs": [
    {
     "data": {
      "text/html": [
       "<div>\n",
       "<style scoped>\n",
       "    .dataframe tbody tr th:only-of-type {\n",
       "        vertical-align: middle;\n",
       "    }\n",
       "\n",
       "    .dataframe tbody tr th {\n",
       "        vertical-align: top;\n",
       "    }\n",
       "\n",
       "    .dataframe thead th {\n",
       "        text-align: right;\n",
       "    }\n",
       "</style>\n",
       "<table border=\"1\" class=\"dataframe\">\n",
       "  <thead>\n",
       "    <tr style=\"text-align: right;\">\n",
       "      <th></th>\n",
       "      <th>index</th>\n",
       "      <th>name</th>\n",
       "      <th>time</th>\n",
       "      <th>no_of_ppl</th>\n",
       "      <th>prep_time</th>\n",
       "      <th>caloaries</th>\n",
       "      <th>main_component</th>\n",
       "      <th>ingredients</th>\n",
       "      <th>prep</th>\n",
       "      <th>img_link</th>\n",
       "    </tr>\n",
       "  </thead>\n",
       "  <tbody>\n",
       "    <tr>\n",
       "      <th>0</th>\n",
       "      <td>0</td>\n",
       "      <td>شيش طاووق</td>\n",
       "      <td>غداء</td>\n",
       "      <td>6</td>\n",
       "      <td>40</td>\n",
       "      <td>186.00</td>\n",
       "      <td>دجاج</td>\n",
       "      <td>500 جم دجاج مخلي مقطع مكعبات ويفضل الأور...</td>\n",
       "      <td>تبلي قطع ومكعبات الدجاج بالتتبيلة بعد ما...</td>\n",
       "      <td>https://www.supermama.me/system/App/Entities/R...</td>\n",
       "    </tr>\n",
       "    <tr>\n",
       "      <th>1</th>\n",
       "      <td>1</td>\n",
       "      <td>مكرونة بالدجاج والمشروم</td>\n",
       "      <td>غداء</td>\n",
       "      <td>4</td>\n",
       "      <td>30</td>\n",
       "      <td>867.00</td>\n",
       "      <td>مكرونة</td>\n",
       "      <td>250 جم  مكرونة بالشكل الذي تفضلينه ...</td>\n",
       "      <td>اسلقي المكرونة، وأضيفي بعض الملح وملعقة...</td>\n",
       "      <td>https://www.supermama.me/system/App/Entities/R...</td>\n",
       "    </tr>\n",
       "    <tr>\n",
       "      <th>2</th>\n",
       "      <td>2</td>\n",
       "      <td>اللازانيا</td>\n",
       "      <td>غداء</td>\n",
       "      <td>4</td>\n",
       "      <td>30</td>\n",
       "      <td>427.10</td>\n",
       "      <td>مكرونة</td>\n",
       "      <td>2 ملعقة كبيرة زيت   ,   خضروات   ,  100 جم بص...</td>\n",
       "      <td>سخني الفرن.   ,   سخني الزيت في إناء يصل...</td>\n",
       "      <td>https://www.supermama.me/system/App/Entities/R...</td>\n",
       "    </tr>\n",
       "    <tr>\n",
       "      <th>3</th>\n",
       "      <td>3</td>\n",
       "      <td>المكرونة بالبشاميل</td>\n",
       "      <td>غداء</td>\n",
       "      <td>8</td>\n",
       "      <td>60</td>\n",
       "      <td>379.81</td>\n",
       "      <td>مكرونة</td>\n",
       "      <td>500 جم مكرونة مقصوصة  ,   30 جم دقيق  ,   1000...</td>\n",
       "      <td>في إناء على النار، سخني السمن جيدًا.  , ...</td>\n",
       "      <td>https://www.supermama.me/system/App/Entities/R...</td>\n",
       "    </tr>\n",
       "    <tr>\n",
       "      <th>4</th>\n",
       "      <td>4</td>\n",
       "      <td>أرز بالكبد والقوانص</td>\n",
       "      <td>غداء</td>\n",
       "      <td>4</td>\n",
       "      <td>40</td>\n",
       "      <td>624.00</td>\n",
       "      <td>كبد و قوانص</td>\n",
       "      <td>500 جم كبد وقوانص  ,  300 جم  أرز  ,   2...</td>\n",
       "      <td>ضعي الزبد على النار، ثم أضيفي البصل وشوح...</td>\n",
       "      <td>https://www.supermama.me/system/App/Entities/R...</td>\n",
       "    </tr>\n",
       "    <tr>\n",
       "      <th>5</th>\n",
       "      <td>6</td>\n",
       "      <td>صينية بطاطس بالفراخ</td>\n",
       "      <td>غداء</td>\n",
       "      <td>4</td>\n",
       "      <td>45</td>\n",
       "      <td>274.00</td>\n",
       "      <td>دجاج</td>\n",
       "      <td>1000 جم بطاطس  ,   دجاجة مقطعة إلى أربع قطع أ...</td>\n",
       "      <td>تبلي الدجاج بالبصل والثوم والبهارات والم...</td>\n",
       "      <td>https://www.supermama.me/system/App/Entities/R...</td>\n",
       "    </tr>\n",
       "    <tr>\n",
       "      <th>6</th>\n",
       "      <td>7</td>\n",
       "      <td>دجاج تكا مشوي</td>\n",
       "      <td>غداء</td>\n",
       "      <td>8</td>\n",
       "      <td>60</td>\n",
       "      <td>66.00</td>\n",
       "      <td>دجاج</td>\n",
       "      <td>دجاجتين كبيرتين مغسولتين و مقطعتين الى اربع ق...</td>\n",
       "      <td>تشرح قطع الدجاج بواسطة سكين حاد , الى ان...</td>\n",
       "      <td>https://www.supermama.me/system/App/Entities/R...</td>\n",
       "    </tr>\n",
       "    <tr>\n",
       "      <th>7</th>\n",
       "      <td>8</td>\n",
       "      <td>ديك رومي مشوي في الفرن</td>\n",
       "      <td>غداء</td>\n",
       "      <td>6</td>\n",
       "      <td>180</td>\n",
       "      <td>400.00</td>\n",
       "      <td>ديك</td>\n",
       "      <td>ديك كامل  6000 – 8000 جم   ,   200 جم زبد مُذ...</td>\n",
       "      <td>في وعاء كبير، ضعي الماء والسكر والملح وع...</td>\n",
       "      <td>https://www.supermama.me/system/App/Entities/R...</td>\n",
       "    </tr>\n",
       "    <tr>\n",
       "      <th>8</th>\n",
       "      <td>9</td>\n",
       "      <td>لفائف الباذنجان بالمكرونة</td>\n",
       "      <td>غداء</td>\n",
       "      <td>6</td>\n",
       "      <td>30</td>\n",
       "      <td>401.00</td>\n",
       "      <td>مكرونة</td>\n",
       "      <td>400 جم  إسباجتي مسلوقة   ,   3 ثمرات باذن...</td>\n",
       "      <td>سخني الفرن عند درجة حرارة 180 درجة مئوية...</td>\n",
       "      <td>https://www.supermama.me/system/App/Entities/R...</td>\n",
       "    </tr>\n",
       "    <tr>\n",
       "      <th>9</th>\n",
       "      <td>10</td>\n",
       "      <td>كبسة الفريك</td>\n",
       "      <td>غداء</td>\n",
       "      <td>4</td>\n",
       "      <td>90</td>\n",
       "      <td>800.00</td>\n",
       "      <td>دجاج و فريك</td>\n",
       "      <td>1200 جم دجاج مقطعة 4 قطع.  ,   300 جم فريك....</td>\n",
       "      <td>افرزي الفريك من الشوائب، ثم اغسليه وانقع...</td>\n",
       "      <td>https://www.supermama.me/system/App/Entities/R...</td>\n",
       "    </tr>\n",
       "  </tbody>\n",
       "</table>\n",
       "</div>"
      ],
      "text/plain": [
       "   index                                       name  time  no_of_ppl  \\\n",
       "0      0                        شيش طاووق            غداء          6   \n",
       "1      1          مكرونة بالدجاج والمشروم            غداء          4   \n",
       "2      2                          اللازانيا          غداء          4   \n",
       "3      3               المكرونة بالبشاميل            غداء          8   \n",
       "4      4              أرز بالكبد والقوانص            غداء          4   \n",
       "5      6              صينية بطاطس بالفراخ            غداء          4   \n",
       "6      7                    دجاج تكا مشوي            غداء          8   \n",
       "7      8           ديك رومي مشوي في الفرن            غداء          6   \n",
       "8      9        لفائف الباذنجان بالمكرونة            غداء          6   \n",
       "9     10                      كبسة الفريك            غداء          4   \n",
       "\n",
       "   prep_time  caloaries main_component  \\\n",
       "0         40     186.00          دجاج    \n",
       "1         30     867.00         مكرونة   \n",
       "2         30     427.10         مكرونة   \n",
       "3         60     379.81         مكرونة   \n",
       "4         40     624.00    كبد و قوانص   \n",
       "5         45     274.00          دجاج    \n",
       "6         60      66.00          دجاج    \n",
       "7        180     400.00            ديك   \n",
       "8         30     401.00         مكرونة   \n",
       "9         90     800.00    دجاج و فريك   \n",
       "\n",
       "                                         ingredients  \\\n",
       "0        500 جم دجاج مخلي مقطع مكعبات ويفضل الأور...   \n",
       "1             250 جم  مكرونة بالشكل الذي تفضلينه ...   \n",
       "2   2 ملعقة كبيرة زيت   ,   خضروات   ,  100 جم بص...   \n",
       "3  500 جم مكرونة مقصوصة  ,   30 جم دقيق  ,   1000...   \n",
       "4        500 جم كبد وقوانص  ,  300 جم  أرز  ,   2...   \n",
       "5   1000 جم بطاطس  ,   دجاجة مقطعة إلى أربع قطع أ...   \n",
       "6   دجاجتين كبيرتين مغسولتين و مقطعتين الى اربع ق...   \n",
       "7   ديك كامل  6000 – 8000 جم   ,   200 جم زبد مُذ...   \n",
       "8       400 جم  إسباجتي مسلوقة   ,   3 ثمرات باذن...   \n",
       "9     1200 جم دجاج مقطعة 4 قطع.  ,   300 جم فريك....   \n",
       "\n",
       "                                                prep  \\\n",
       "0        تبلي قطع ومكعبات الدجاج بالتتبيلة بعد ما...   \n",
       "1         اسلقي المكرونة، وأضيفي بعض الملح وملعقة...   \n",
       "2        سخني الفرن.   ,   سخني الزيت في إناء يصل...   \n",
       "3        في إناء على النار، سخني السمن جيدًا.  , ...   \n",
       "4        ضعي الزبد على النار، ثم أضيفي البصل وشوح...   \n",
       "5        تبلي الدجاج بالبصل والثوم والبهارات والم...   \n",
       "6        تشرح قطع الدجاج بواسطة سكين حاد , الى ان...   \n",
       "7        في وعاء كبير، ضعي الماء والسكر والملح وع...   \n",
       "8        سخني الفرن عند درجة حرارة 180 درجة مئوية...   \n",
       "9        افرزي الفريك من الشوائب، ثم اغسليه وانقع...   \n",
       "\n",
       "                                            img_link  \n",
       "0  https://www.supermama.me/system/App/Entities/R...  \n",
       "1  https://www.supermama.me/system/App/Entities/R...  \n",
       "2  https://www.supermama.me/system/App/Entities/R...  \n",
       "3  https://www.supermama.me/system/App/Entities/R...  \n",
       "4  https://www.supermama.me/system/App/Entities/R...  \n",
       "5  https://www.supermama.me/system/App/Entities/R...  \n",
       "6  https://www.supermama.me/system/App/Entities/R...  \n",
       "7  https://www.supermama.me/system/App/Entities/R...  \n",
       "8  https://www.supermama.me/system/App/Entities/R...  \n",
       "9  https://www.supermama.me/system/App/Entities/R...  "
      ]
     },
     "execution_count": 2,
     "metadata": {},
     "output_type": "execute_result"
    }
   ],
   "source": [
    "import pandas as pd\n",
    "import numpy as np\n",
    "\n",
    "df = pd.read_csv('foods last.csv')\n",
    "df.head(10)"
   ]
  },
  {
   "cell_type": "code",
   "execution_count": 3,
   "id": "cc91e1e0",
   "metadata": {},
   "outputs": [
    {
     "data": {
      "text/plain": [
       "index             0\n",
       "name              0\n",
       "time              0\n",
       "no_of_ppl         0\n",
       "prep_time         0\n",
       "caloaries         0\n",
       "main_component    0\n",
       "ingredients       0\n",
       "prep              0\n",
       "img_link          0\n",
       "dtype: int64"
      ]
     },
     "execution_count": 3,
     "metadata": {},
     "output_type": "execute_result"
    }
   ],
   "source": [
    "#check for null values\n",
    "df.isnull().sum()"
   ]
  },
  {
   "cell_type": "code",
   "execution_count": 4,
   "id": "96134f78",
   "metadata": {},
   "outputs": [],
   "source": [
    "# import matplotlib.pyplot as plt\n",
    "\n",
    "# plt.figure(figsize=(50,10))\n",
    "# plt.hist(df['prep_time'],bins=50)\n",
    "# plt.xlabel('Cooktime')\n",
    "# plt.ylabel('Frequency0')\n",
    "# plt.title('Frequency of cook time')\n",
    "# plt.show()"
   ]
  },
  {
   "cell_type": "code",
   "execution_count": 5,
   "id": "42280c64",
   "metadata": {},
   "outputs": [
    {
     "data": {
      "text/plain": [
       "'     400 جم  إسباجتي مسلوقة   ,   3 ثمرات باذنجان مقطعة شرائح طولية.  ,  300 جم جبن موتزاريلا أو شيدر مبشور.  ,   2 ملعقة كبيرة  زيت نباتي.  ,   4 ثمرات طماطم مقشرة ومقطعة.  ,   بصلة مفرومة ناعمًا.  ,   2 فص ثوم مفرومان ناعمًا.  ,   2 ملعقة كبيرة  صلصة طماطم.  ,   ملح وفلفل أسود.  ,   بقدونس مفروم للتزيين.      '"
      ]
     },
     "execution_count": 5,
     "metadata": {},
     "output_type": "execute_result"
    }
   ],
   "source": [
    "df.iloc[8]['ingredients']"
   ]
  },
  {
   "cell_type": "code",
   "execution_count": 6,
   "id": "41da10f4",
   "metadata": {},
   "outputs": [],
   "source": [
    "# Data Normalization\n",
    "import unicodedata as ud\n",
    "import re\n",
    "\n",
    "def cleanText(txt):\n",
    "    \n",
    "    tokenText1 = txt.split(' ')\n",
    "    \n",
    "    #Remove StopWord\n",
    "    SWList = []\n",
    "    stopWordList = open(\"arabic-stop-words.txt\").read().splitlines()\n",
    "    for token in tokenText1:\n",
    "        if token not in stopWordList:\n",
    "            SWList.append(token)\n",
    "    SWText = ' '.join(SWList)\n",
    "    \n",
    "    #Remove arabic number\n",
    "    ctxt = re.sub('[\\u0660-\\u0669]','',SWText)\n",
    "    \n",
    "    #Remove English number\n",
    "    ctxt = re.sub('[0-9]+','',ctxt)\n",
    "    \n",
    "    ctxt = re.sub('[.]+','',ctxt)\n",
    "    \n",
    "    newtxt = []\n",
    "    filterWords = open(\"Filtered-Words.txt\").read().splitlines()\n",
    "    tokenText2 = ctxt.split(' ') \n",
    "    for token in tokenText2:\n",
    "        if token not in filterWords:\n",
    "            newtxt.append(token)\n",
    "    newtxt = ' '.join(newtxt)\n",
    "    \n",
    "    #Remove Spaces\n",
    "    newtxt = ' '.join(newtxt.split())\n",
    "    \n",
    "    return newtxt\n",
    "    "
   ]
  },
  {
   "cell_type": "code",
   "execution_count": 7,
   "id": "80b345cf",
   "metadata": {},
   "outputs": [
    {
     "data": {
      "text/plain": [
       "'إسباجتي , باذنجان , جبن موتزاريلا شيدر , زيت نباتي , طماطم , بصلة , ثوم , صلصة طماطم , ملح وفلفل أسود , بقدونس'"
      ]
     },
     "execution_count": 7,
     "metadata": {},
     "output_type": "execute_result"
    }
   ],
   "source": [
    "df['ingredients'] = df['ingredients'].apply(cleanText)\n",
    "df.iloc[8]['ingredients']"
   ]
  },
  {
   "cell_type": "code",
   "execution_count": 8,
   "id": "0021e396",
   "metadata": {},
   "outputs": [],
   "source": [
    "# df['ingredients'] = [x.split(',') for x in df['ingredients']]"
   ]
  },
  {
   "cell_type": "code",
   "execution_count": 9,
   "id": "ca0bdbb8",
   "metadata": {},
   "outputs": [
    {
     "data": {
      "text/html": [
       "<div>\n",
       "<style scoped>\n",
       "    .dataframe tbody tr th:only-of-type {\n",
       "        vertical-align: middle;\n",
       "    }\n",
       "\n",
       "    .dataframe tbody tr th {\n",
       "        vertical-align: top;\n",
       "    }\n",
       "\n",
       "    .dataframe thead th {\n",
       "        text-align: right;\n",
       "    }\n",
       "</style>\n",
       "<table border=\"1\" class=\"dataframe\">\n",
       "  <thead>\n",
       "    <tr style=\"text-align: right;\">\n",
       "      <th></th>\n",
       "      <th>index</th>\n",
       "      <th>name</th>\n",
       "      <th>time</th>\n",
       "      <th>no_of_ppl</th>\n",
       "      <th>prep_time</th>\n",
       "      <th>caloaries</th>\n",
       "      <th>main_component</th>\n",
       "      <th>ingredients</th>\n",
       "      <th>prep</th>\n",
       "      <th>img_link</th>\n",
       "    </tr>\n",
       "  </thead>\n",
       "  <tbody>\n",
       "    <tr>\n",
       "      <th>0</th>\n",
       "      <td>0</td>\n",
       "      <td>شيش طاووق</td>\n",
       "      <td>غداء</td>\n",
       "      <td>6</td>\n",
       "      <td>40</td>\n",
       "      <td>186.00</td>\n",
       "      <td>دجاج</td>\n",
       "      <td>دجاج الأوراك , زبادي , مسطردة , بصلة , ثوم , ز...</td>\n",
       "      <td>تبلي قطع ومكعبات الدجاج بالتتبيلة بعد ما...</td>\n",
       "      <td>https://www.supermama.me/system/App/Entities/R...</td>\n",
       "    </tr>\n",
       "    <tr>\n",
       "      <th>1</th>\n",
       "      <td>1</td>\n",
       "      <td>مكرونة بالدجاج والمشروم</td>\n",
       "      <td>غداء</td>\n",
       "      <td>4</td>\n",
       "      <td>30</td>\n",
       "      <td>867.00</td>\n",
       "      <td>مكرونة</td>\n",
       "      <td>مكرونة , مشروم مشروم , دجاج صدور أوراك , فلفل ...</td>\n",
       "      <td>اسلقي المكرونة، وأضيفي بعض الملح وملعقة...</td>\n",
       "      <td>https://www.supermama.me/system/App/Entities/R...</td>\n",
       "    </tr>\n",
       "    <tr>\n",
       "      <th>2</th>\n",
       "      <td>2</td>\n",
       "      <td>اللازانيا</td>\n",
       "      <td>غداء</td>\n",
       "      <td>4</td>\n",
       "      <td>30</td>\n",
       "      <td>427.10</td>\n",
       "      <td>مكرونة</td>\n",
       "      <td>زيت , خضروات , بصل , جزر , ثوم , ريحان جاف , ز...</td>\n",
       "      <td>سخني الفرن.   ,   سخني الزيت في إناء يصل...</td>\n",
       "      <td>https://www.supermama.me/system/App/Entities/R...</td>\n",
       "    </tr>\n",
       "    <tr>\n",
       "      <th>3</th>\n",
       "      <td>3</td>\n",
       "      <td>المكرونة بالبشاميل</td>\n",
       "      <td>غداء</td>\n",
       "      <td>8</td>\n",
       "      <td>60</td>\n",
       "      <td>379.81</td>\n",
       "      <td>مكرونة</td>\n",
       "      <td>مكرونة مقصوصة , دقيق , حليب , سمن زبد , عصاج ا...</td>\n",
       "      <td>في إناء على النار، سخني السمن جيدًا.  , ...</td>\n",
       "      <td>https://www.supermama.me/system/App/Entities/R...</td>\n",
       "    </tr>\n",
       "    <tr>\n",
       "      <th>4</th>\n",
       "      <td>4</td>\n",
       "      <td>أرز بالكبد والقوانص</td>\n",
       "      <td>غداء</td>\n",
       "      <td>4</td>\n",
       "      <td>40</td>\n",
       "      <td>624.00</td>\n",
       "      <td>كبد و قوانص</td>\n",
       "      <td>كبد وقوانص , أرز , ماء , مرق دجاج , بصلة , ملح...</td>\n",
       "      <td>ضعي الزبد على النار، ثم أضيفي البصل وشوح...</td>\n",
       "      <td>https://www.supermama.me/system/App/Entities/R...</td>\n",
       "    </tr>\n",
       "  </tbody>\n",
       "</table>\n",
       "</div>"
      ],
      "text/plain": [
       "   index                                     name  time  no_of_ppl  prep_time  \\\n",
       "0      0                      شيش طاووق            غداء          6         40   \n",
       "1      1        مكرونة بالدجاج والمشروم            غداء          4         30   \n",
       "2      2                        اللازانيا          غداء          4         30   \n",
       "3      3             المكرونة بالبشاميل            غداء          8         60   \n",
       "4      4            أرز بالكبد والقوانص            غداء          4         40   \n",
       "\n",
       "   caloaries main_component  \\\n",
       "0     186.00          دجاج    \n",
       "1     867.00         مكرونة   \n",
       "2     427.10         مكرونة   \n",
       "3     379.81         مكرونة   \n",
       "4     624.00    كبد و قوانص   \n",
       "\n",
       "                                         ingredients  \\\n",
       "0  دجاج الأوراك , زبادي , مسطردة , بصلة , ثوم , ز...   \n",
       "1  مكرونة , مشروم مشروم , دجاج صدور أوراك , فلفل ...   \n",
       "2  زيت , خضروات , بصل , جزر , ثوم , ريحان جاف , ز...   \n",
       "3  مكرونة مقصوصة , دقيق , حليب , سمن زبد , عصاج ا...   \n",
       "4  كبد وقوانص , أرز , ماء , مرق دجاج , بصلة , ملح...   \n",
       "\n",
       "                                                prep  \\\n",
       "0        تبلي قطع ومكعبات الدجاج بالتتبيلة بعد ما...   \n",
       "1         اسلقي المكرونة، وأضيفي بعض الملح وملعقة...   \n",
       "2        سخني الفرن.   ,   سخني الزيت في إناء يصل...   \n",
       "3        في إناء على النار، سخني السمن جيدًا.  , ...   \n",
       "4        ضعي الزبد على النار، ثم أضيفي البصل وشوح...   \n",
       "\n",
       "                                            img_link  \n",
       "0  https://www.supermama.me/system/App/Entities/R...  \n",
       "1  https://www.supermama.me/system/App/Entities/R...  \n",
       "2  https://www.supermama.me/system/App/Entities/R...  \n",
       "3  https://www.supermama.me/system/App/Entities/R...  \n",
       "4  https://www.supermama.me/system/App/Entities/R...  "
      ]
     },
     "execution_count": 9,
     "metadata": {},
     "output_type": "execute_result"
    }
   ],
   "source": [
    "df.head()"
   ]
  },
  {
   "cell_type": "code",
   "execution_count": 10,
   "id": "3d977e86",
   "metadata": {},
   "outputs": [
    {
     "data": {
      "text/plain": [
       "'مكرونة , مشروم مشروم , دجاج صدور أوراك , فلفل , ذرة , دقيق , زيت , حليب , مكرونة , مشروم مشروم , دجاج صدور أوراك , فلفل , ذرة , دقيق , زيت , حليب'"
      ]
     },
     "execution_count": 10,
     "metadata": {},
     "output_type": "execute_result"
    }
   ],
   "source": [
    "df['ingredients'].iloc[1]"
   ]
  },
  {
   "cell_type": "code",
   "execution_count": 11,
   "id": "987aede4",
   "metadata": {},
   "outputs": [
    {
     "data": {
      "text/plain": [
       "'      المكرونة بالبشاميل          '"
      ]
     },
     "execution_count": 11,
     "metadata": {},
     "output_type": "execute_result"
    }
   ],
   "source": [
    "df['name'][3]"
   ]
  },
  {
   "cell_type": "code",
   "execution_count": 12,
   "id": "bbd65a6a",
   "metadata": {},
   "outputs": [],
   "source": [
    "def cleanSpacing(txt):\n",
    "    txt = ' '.join(txt.split())\n",
    "    return txt\n",
    "\n",
    "for dc in 'name', 'prep':\n",
    "    df[dc] = df[dc].apply(cleanSpacing)\n"
   ]
  },
  {
   "cell_type": "code",
   "execution_count": 13,
   "id": "df8433af",
   "metadata": {},
   "outputs": [
    {
     "data": {
      "text/plain": [
       "'المكرونة بالبشاميل'"
      ]
     },
     "execution_count": 13,
     "metadata": {},
     "output_type": "execute_result"
    }
   ],
   "source": [
    "df['name'][3]"
   ]
  },
  {
   "cell_type": "code",
   "execution_count": 14,
   "id": "4c54fa22",
   "metadata": {},
   "outputs": [],
   "source": [
    "# x=pd.crosstab(index=df['main_component'],columns=df['main_component'])\n",
    "# x.plot(kind=\"bar\", figsize=(50,20),stacked=True)"
   ]
  },
  {
   "cell_type": "code",
   "execution_count": 15,
   "id": "dd3cd841",
   "metadata": {},
   "outputs": [
    {
     "data": {
      "text/plain": [
       "'دجاج  دجاج  دجاج  دجاج الأوراك , زبادي , مسطردة , بصلة , ثوم , زعتر , صلصة طماطم , ملح وفلفل , كركم , زيت زيتون , سماق , ليمون خل'"
      ]
     },
     "execution_count": 15,
     "metadata": {},
     "output_type": "execute_result"
    }
   ],
   "source": [
    "#Function that creates a mix of the desired metadata\n",
    "def createFeaturesMix(x):\n",
    "    return ''.join(x['main_component'])+' '+''.join(x['main_component'])+' '+''.join(x['main_component'])+' '+''.join(x['ingredients'])\n",
    "\n",
    "# Create the new mix feature\n",
    "df['fMix'] = df.apply(createFeaturesMix, axis=1)\n",
    "df['fMix'][0]"
   ]
  },
  {
   "cell_type": "code",
   "execution_count": 24,
   "id": "6703026c",
   "metadata": {},
   "outputs": [],
   "source": [
    "#Import TfIdfVectorizer from the scikit-learn library\n",
    "\n",
    "from sklearn.feature_extraction.text import TfidfVectorizer\n",
    "tfIdf = TfidfVectorizer()\n",
    "\n",
    "# tfIdf_matrix = tfIdf.fit_transform(df['fMix'])\n",
    "# tfIdf_matrix.shape"
   ]
  },
  {
   "cell_type": "code",
   "execution_count": 25,
   "id": "de684798",
   "metadata": {},
   "outputs": [],
   "source": [
    "# Import linear_kernel to compute the dot product and cosine similarity matrix\n",
    "from sklearn.metrics.pairwise import linear_kernel\n",
    "\n",
    "# cosine_sim = linear_kernel(tfIdf_matrix, tfIdf_matrix)\n",
    "# cosine_sim[0:3]"
   ]
  },
  {
   "cell_type": "code",
   "execution_count": 23,
   "id": "96ed4b73",
   "metadata": {},
   "outputs": [],
   "source": []
  },
  {
   "cell_type": "code",
   "execution_count": null,
   "id": "418b05fe",
   "metadata": {},
   "outputs": [],
   "source": [
    "# def main_component_filter (i):\n",
    "#     new_df = df[df['main_component']['دجاج']]\n",
    "#     return new"
   ]
  },
  {
   "cell_type": "code",
   "execution_count": 40,
   "id": "60ed889b",
   "metadata": {},
   "outputs": [],
   "source": [
    "# Function that takes in Meal title as input and gives recommendations\n",
    "def contentRecommender(ingredients):\n",
    "    \n",
    "    #add ingredient input to ingredient column\n",
    "    ingredientsInput = pd.Series(ingredients)\n",
    "    X = df['fMix'].append(ingredientsInput, ignore_index=True)\n",
    "    \n",
    "    tfIdf_matrix = tfIdf.fit_transform(X)\n",
    "    \n",
    "    #compute cosine similarity to all ingredient column\n",
    "    cosine_sim = linear_kernel(tfIdf_matrix, tfIdf_matrix)\n",
    "    \n",
    "    indices = pd.Series(X.index, index=X).drop_duplicates()\n",
    "        \n",
    "    idx = indices[X.iloc[-1]]\n",
    "    \n",
    "    \n",
    "    # Get the pairwsie similarity scores of all Meals with that Meal\n",
    "    # And convert it into a list of tuples \n",
    "    simScores = list(enumerate(cosine_sim[idx])) \n",
    "    \n",
    "    # Sort the Meal based on the cosine similarity scores\n",
    "    simScores = sorted(simScores, key=lambda x: x[1], reverse=True)\n",
    "    \n",
    "    # Get the scores of the 10 most similar Meals. Ignore the first Meal.\n",
    "    simScores = simScores[1:11]\n",
    "    \n",
    "    # Get the Meal indices\n",
    "    mealsIndices = [i[0] for i in simScores]\n",
    "    \n",
    "    # Return the top 10 most similar Meals\n",
    "    return df['name'].iloc[mealsIndices]\n",
    " "
   ]
  },
  {
   "cell_type": "code",
   "execution_count": 45,
   "id": "3484e671",
   "metadata": {},
   "outputs": [
    {
     "data": {
      "text/plain": [
       "0                             شيش طاووق\n",
       "95     تشكين ناجتس على طريقة ماكدونالدز\n",
       "88                       دجاج على الفحم\n",
       "19                     الكبسة الإسبانية\n",
       "13                       المندي الأردني\n",
       "209           أرز بسمتي بالكاري والدجاج\n",
       "390                      شوربة البروكلي\n",
       "68          كفتة الدجاج المحشية بالجبنة\n",
       "38                        سلطة الشاورما\n",
       "98                        دجاج بوب كورن\n",
       "Name: name, dtype: object"
      ]
     },
     "execution_count": 45,
     "metadata": {},
     "output_type": "execute_result"
    }
   ],
   "source": [
    "contentRecommender('دجاج  دجاج الأوراك , زبادي , مسطردة , بصلة , ثوم , زعتر , صلصة طماطم , ملح وفلفل دجاج دجاج , سماق , ليمون خل')"
   ]
  },
  {
   "cell_type": "markdown",
   "id": "17672153",
   "metadata": {},
   "source": []
  },
  {
   "cell_type": "code",
   "execution_count": null,
   "id": "ed44cd38",
   "metadata": {},
   "outputs": [],
   "source": []
  }
 ],
 "metadata": {
  "kernelspec": {
   "display_name": "Python 3 (ipykernel)",
   "language": "python",
   "name": "python3"
  },
  "language_info": {
   "codemirror_mode": {
    "name": "ipython",
    "version": 3
   },
   "file_extension": ".py",
   "mimetype": "text/x-python",
   "name": "python",
   "nbconvert_exporter": "python",
   "pygments_lexer": "ipython3",
   "version": "3.9.7"
  }
 },
 "nbformat": 4,
 "nbformat_minor": 5
}
