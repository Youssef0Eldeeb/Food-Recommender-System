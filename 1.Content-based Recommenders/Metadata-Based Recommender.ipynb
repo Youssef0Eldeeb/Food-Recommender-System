{
 "cells": [
  {
   "cell_type": "code",
   "execution_count": 63,
   "id": "3f00fd3b",
   "metadata": {},
   "outputs": [
    {
     "data": {
      "text/html": [
       "<div>\n",
       "<style scoped>\n",
       "    .dataframe tbody tr th:only-of-type {\n",
       "        vertical-align: middle;\n",
       "    }\n",
       "\n",
       "    .dataframe tbody tr th {\n",
       "        vertical-align: top;\n",
       "    }\n",
       "\n",
       "    .dataframe thead th {\n",
       "        text-align: right;\n",
       "    }\n",
       "</style>\n",
       "<table border=\"1\" class=\"dataframe\">\n",
       "  <thead>\n",
       "    <tr style=\"text-align: right;\">\n",
       "      <th></th>\n",
       "      <th>اسم الأكله</th>\n",
       "      <th>وقت الوجبة</th>\n",
       "      <th>عدد الاشخاص</th>\n",
       "      <th>الوقت</th>\n",
       "      <th>السعرات الحرايه</th>\n",
       "      <th>المقادير</th>\n",
       "      <th>التحضير</th>\n",
       "      <th>الصورة</th>\n",
       "    </tr>\n",
       "  </thead>\n",
       "  <tbody>\n",
       "    <tr>\n",
       "      <th>0</th>\n",
       "      <td>شيش طاووق لذيذ</td>\n",
       "      <td>غداء</td>\n",
       "      <td>6 أشخاص</td>\n",
       "      <td>40 دقيقة</td>\n",
       "      <td>186 سعرة حرارية</td>\n",
       "      <td>نص كيلو دجاج مخلي مقطع مكعبات ويفضل الأو...</td>\n",
       "      <td>تبلي قطع ومكعبات الدجاج بالتتبيلة بعد ما...</td>\n",
       "      <td>https://www.supermama.me/system/App/Entities/R...</td>\n",
       "    </tr>\n",
       "    <tr>\n",
       "      <th>1</th>\n",
       "      <td>مكرونة بالدجاج والمشروم</td>\n",
       "      <td>غداء</td>\n",
       "      <td>4 أشخاص</td>\n",
       "      <td>30 دقيقة</td>\n",
       "      <td>867 سعرة حرارية</td>\n",
       "      <td>كيس مكرونة بالشكل الذي تفضلينه  ,  ...</td>\n",
       "      <td>اسلقي المكرونة، وأضيفي بعض الملح وملعقة...</td>\n",
       "      <td>https://www.supermama.me/system/App/Entities/R...</td>\n",
       "    </tr>\n",
       "    <tr>\n",
       "      <th>2</th>\n",
       "      <td>اللازانيا الكسولة</td>\n",
       "      <td>غداء</td>\n",
       "      <td>4 أشخاص</td>\n",
       "      <td>30 دقيقة</td>\n",
       "      <td>427.1 سعرة حرارية</td>\n",
       "      <td>٢ ملعقة كبيرة زيت   ,   خضروات   ,   ١/٢...</td>\n",
       "      <td>سخني الفرن.   ,   سخني الزيت في إناء يصل...</td>\n",
       "      <td>https://www.supermama.me/system/App/Entities/R...</td>\n",
       "    </tr>\n",
       "    <tr>\n",
       "      <th>3</th>\n",
       "      <td>المكرونة بالبشاميل</td>\n",
       "      <td>غداء</td>\n",
       "      <td>8 أشخاص</td>\n",
       "      <td>60 دقيقة</td>\n",
       "      <td>379.81 سعرة حرارية</td>\n",
       "      <td>½ كيلوجرام (500 جم) مكرونة مقصوصة  ,   3...</td>\n",
       "      <td>في إناء على النار، سخني السمن جيدًا.  , ...</td>\n",
       "      <td>https://www.supermama.me/system/App/Entities/R...</td>\n",
       "    </tr>\n",
       "    <tr>\n",
       "      <th>4</th>\n",
       "      <td>أرز بالكبد والقوانص</td>\n",
       "      <td>غداء</td>\n",
       "      <td>4 أشخاص</td>\n",
       "      <td>40 دقيقة</td>\n",
       "      <td>624 سعرة حرارية</td>\n",
       "      <td>نصف كيلو كبد وقوانص  ,   2 كوب أرز  ,   ...</td>\n",
       "      <td>ضعي الزبد على النار، ثم أضيفي البصل وشوح...</td>\n",
       "      <td>https://www.supermama.me/system/App/Entities/R...</td>\n",
       "    </tr>\n",
       "  </tbody>\n",
       "</table>\n",
       "</div>"
      ],
      "text/plain": [
       "                                اسم الأكله وقت الوجبة      عدد الاشخاص  \\\n",
       "0                 شيش طاووق لذيذ                 غداء      6 أشخاص       \n",
       "1        مكرونة بالدجاج والمشروم                 غداء      4 أشخاص       \n",
       "2              اللازانيا الكسولة                 غداء      4 أشخاص       \n",
       "3             المكرونة بالبشاميل                 غداء      8 أشخاص       \n",
       "4            أرز بالكبد والقوانص                 غداء      4 أشخاص       \n",
       "\n",
       "              الوقت             السعرات الحرايه  \\\n",
       "0      40 دقيقة             186 سعرة حرارية       \n",
       "1      30 دقيقة             867 سعرة حرارية       \n",
       "2      30 دقيقة           427.1 سعرة حرارية       \n",
       "3      60 دقيقة          379.81 سعرة حرارية       \n",
       "4      40 دقيقة             624 سعرة حرارية       \n",
       "\n",
       "                                            المقادير  \\\n",
       "0        نص كيلو دجاج مخلي مقطع مكعبات ويفضل الأو...   \n",
       "1             كيس مكرونة بالشكل الذي تفضلينه  ,  ...   \n",
       "2        ٢ ملعقة كبيرة زيت   ,   خضروات   ,   ١/٢...   \n",
       "3        ½ كيلوجرام (500 جم) مكرونة مقصوصة  ,   3...   \n",
       "4        نصف كيلو كبد وقوانص  ,   2 كوب أرز  ,   ...   \n",
       "\n",
       "                                             التحضير  \\\n",
       "0        تبلي قطع ومكعبات الدجاج بالتتبيلة بعد ما...   \n",
       "1         اسلقي المكرونة، وأضيفي بعض الملح وملعقة...   \n",
       "2        سخني الفرن.   ,   سخني الزيت في إناء يصل...   \n",
       "3        في إناء على النار، سخني السمن جيدًا.  , ...   \n",
       "4        ضعي الزبد على النار، ثم أضيفي البصل وشوح...   \n",
       "\n",
       "                                              الصورة  \n",
       "0  https://www.supermama.me/system/App/Entities/R...  \n",
       "1  https://www.supermama.me/system/App/Entities/R...  \n",
       "2  https://www.supermama.me/system/App/Entities/R...  \n",
       "3  https://www.supermama.me/system/App/Entities/R...  \n",
       "4  https://www.supermama.me/system/App/Entities/R...  "
      ]
     },
     "execution_count": 63,
     "metadata": {},
     "output_type": "execute_result"
    }
   ],
   "source": [
    "import pandas as pd\n",
    "import numpy as np\n",
    "\n",
    "df = pd.read_csv('foods.csv')\n",
    "df.head()"
   ]
  },
  {
   "cell_type": "code",
   "execution_count": 64,
   "id": "cc91e1e0",
   "metadata": {},
   "outputs": [
    {
     "data": {
      "text/plain": [
       "اسم الأكله         0\n",
       "وقت الوجبة         0\n",
       "عدد الاشخاص        0\n",
       "الوقت              0\n",
       "السعرات الحرايه    0\n",
       "المقادير           0\n",
       "التحضير            0\n",
       "الصورة             0\n",
       "dtype: int64"
      ]
     },
     "execution_count": 64,
     "metadata": {},
     "output_type": "execute_result"
    }
   ],
   "source": [
    "#check for null values\n",
    "df.isnull().sum()"
   ]
  },
  {
   "cell_type": "code",
   "execution_count": 65,
   "id": "42280c64",
   "metadata": {},
   "outputs": [
    {
     "data": {
      "text/plain": [
       "'      ديك كامل (6 – 8 كيلوجرامات).  ,   كوب (200 جم) زبد مُذاب.  ,   كوب (250 مل) عصير برتقال.  ,   بصلة كبيرة مقطعة شرائح رفيعة.  ,   3 ثمرات كرفس مقطعة شرائح.  ,   2 ملعقة كبيرة (25 جم) زعتر طازج مفروم.  ,   2 ملعقة كبيرة (25 جم) روزماري طازج مفروم.  ,   ملعقة كبيرة (12.5 جم) ثوم مفروم.  ,   ملعقة صغيرة (5 جم) بابريكا.  ,   ملعقة صغيرة (5 جم) السبعة بهارات.  ,   ملعقة صغيرة (5 جم) كاري.  ,   ملح وفلفل أسود.      '"
      ]
     },
     "execution_count": 65,
     "metadata": {},
     "output_type": "execute_result"
    }
   ],
   "source": [
    "df.iloc[8]['المقادير']"
   ]
  },
  {
   "cell_type": "code",
   "execution_count": 66,
   "id": "41da10f4",
   "metadata": {},
   "outputs": [],
   "source": [
    "import unicodedata as ud\n",
    "import re\n",
    "\n",
    "def cleanText(txt):\n",
    "    #Remove Punctuations\n",
    "    puncText = ''.join(c for c in txt if not ud.category(c).startswith('P'))\n",
    "    \n",
    "    tokenText1 = puncText.split(' ')\n",
    "    #Remove StopWord\n",
    "    SWList = []\n",
    "    stopWordList = open(\"arabic-stop-words.txt\").read().splitlines()\n",
    "    for token in tokenText1:\n",
    "        if token not in stopWordList:\n",
    "            SWList.append(token)\n",
    "    SWText = ' '.join(SWList)\n",
    "    \n",
    "    #Remove arabic number\n",
    "    ctxt = re.sub('[\\u0660-\\u0669]','',SWText)\n",
    "    \n",
    "    #Remove English number\n",
    "    ctxt = re.sub('[0-9]+','',ctxt)\n",
    "    \n",
    "    newtxt = []\n",
    "    filterWords = open(\"Filtered-Words.txt\").read().splitlines()\n",
    "    tokenText2 = ctxt.split(' ') \n",
    "    for token in tokenText2:\n",
    "        if token not in filterWords:\n",
    "            newtxt.append(token)\n",
    "    newtxt = ' '.join(newtxt)\n",
    "    \n",
    "    return newtxt\n",
    "    "
   ]
  },
  {
   "cell_type": "code",
   "execution_count": 67,
   "id": "80b345cf",
   "metadata": {},
   "outputs": [
    {
     "data": {
      "text/html": [
       "<div>\n",
       "<style scoped>\n",
       "    .dataframe tbody tr th:only-of-type {\n",
       "        vertical-align: middle;\n",
       "    }\n",
       "\n",
       "    .dataframe tbody tr th {\n",
       "        vertical-align: top;\n",
       "    }\n",
       "\n",
       "    .dataframe thead th {\n",
       "        text-align: right;\n",
       "    }\n",
       "</style>\n",
       "<table border=\"1\" class=\"dataframe\">\n",
       "  <thead>\n",
       "    <tr style=\"text-align: right;\">\n",
       "      <th></th>\n",
       "      <th>اسم الأكله</th>\n",
       "      <th>وقت الوجبة</th>\n",
       "      <th>عدد الاشخاص</th>\n",
       "      <th>الوقت</th>\n",
       "      <th>السعرات الحرايه</th>\n",
       "      <th>المقادير</th>\n",
       "      <th>التحضير</th>\n",
       "      <th>الصورة</th>\n",
       "    </tr>\n",
       "  </thead>\n",
       "  <tbody>\n",
       "    <tr>\n",
       "      <th>0</th>\n",
       "      <td>شيش طاووق لذيذ</td>\n",
       "      <td>غداء</td>\n",
       "      <td>6 أشخاص</td>\n",
       "      <td>40 دقيقة</td>\n",
       "      <td>186 سعرة حرارية</td>\n",
       "      <td>دجاج مخلي مقطع مكعبات ويفضل الأوراك طبعا...</td>\n",
       "      <td>تبلي قطع ومكعبات الدجاج بالتتبيلة بعد ما...</td>\n",
       "      <td>https://www.supermama.me/system/App/Entities/R...</td>\n",
       "    </tr>\n",
       "    <tr>\n",
       "      <th>1</th>\n",
       "      <td>مكرونة بالدجاج والمشروم</td>\n",
       "      <td>غداء</td>\n",
       "      <td>4 أشخاص</td>\n",
       "      <td>30 دقيقة</td>\n",
       "      <td>867 سعرة حرارية</td>\n",
       "      <td>مكرونة بالشكل تفضلينه         مشروم...</td>\n",
       "      <td>اسلقي المكرونة، وأضيفي بعض الملح وملعقة...</td>\n",
       "      <td>https://www.supermama.me/system/App/Entities/R...</td>\n",
       "    </tr>\n",
       "    <tr>\n",
       "      <th>2</th>\n",
       "      <td>اللازانيا الكسولة</td>\n",
       "      <td>غداء</td>\n",
       "      <td>4 أشخاص</td>\n",
       "      <td>30 دقيقة</td>\n",
       "      <td>427.1 سعرة حرارية</td>\n",
       "      <td>زيت      خضروات       بصل مفروم       ج...</td>\n",
       "      <td>سخني الفرن.   ,   سخني الزيت في إناء يصل...</td>\n",
       "      <td>https://www.supermama.me/system/App/Entities/R...</td>\n",
       "    </tr>\n",
       "    <tr>\n",
       "      <th>3</th>\n",
       "      <td>المكرونة بالبشاميل</td>\n",
       "      <td>غداء</td>\n",
       "      <td>8 أشخاص</td>\n",
       "      <td>60 دقيقة</td>\n",
       "      <td>379.81 سعرة حرارية</td>\n",
       "      <td>مكرونة مقصوصة       دقيق     لتر  حليب ...</td>\n",
       "      <td>في إناء على النار، سخني السمن جيدًا.  , ...</td>\n",
       "      <td>https://www.supermama.me/system/App/Entities/R...</td>\n",
       "    </tr>\n",
       "    <tr>\n",
       "      <th>4</th>\n",
       "      <td>أرز بالكبد والقوانص</td>\n",
       "      <td>غداء</td>\n",
       "      <td>4 أشخاص</td>\n",
       "      <td>40 دقيقة</td>\n",
       "      <td>624 سعرة حرارية</td>\n",
       "      <td>كبد وقوانص      أرز      ماء     مكعب مر...</td>\n",
       "      <td>ضعي الزبد على النار، ثم أضيفي البصل وشوح...</td>\n",
       "      <td>https://www.supermama.me/system/App/Entities/R...</td>\n",
       "    </tr>\n",
       "    <tr>\n",
       "      <th>5</th>\n",
       "      <td>دجاج كنتاكي</td>\n",
       "      <td>غداء</td>\n",
       "      <td>6 أشخاص</td>\n",
       "      <td>60 دقيقة</td>\n",
       "      <td>205 سعرة حرارية</td>\n",
       "      <td>أكواب ماء     ملح      معلقة صويا صوص  ...</td>\n",
       "      <td>اخلطي الماء و الصويا و ثلث كوب ملح ، قم ...</td>\n",
       "      <td>https://www.supermama.me/system/App/Entities/R...</td>\n",
       "    </tr>\n",
       "    <tr>\n",
       "      <th>6</th>\n",
       "      <td>صينية بطاطس بالفراخ</td>\n",
       "      <td>غداء</td>\n",
       "      <td>4 أشخاص</td>\n",
       "      <td>45 دقيقة</td>\n",
       "      <td>274 سعرة حرارية</td>\n",
       "      <td>بطاطس     دجاجة مقطعة قطع قطع      جزرات...</td>\n",
       "      <td>تبلي الدجاج بالبصل والثوم والبهارات والم...</td>\n",
       "      <td>https://www.supermama.me/system/App/Entities/R...</td>\n",
       "    </tr>\n",
       "    <tr>\n",
       "      <th>7</th>\n",
       "      <td>دجاج تكا مشوي</td>\n",
       "      <td>غداء</td>\n",
       "      <td>8 أشخاص</td>\n",
       "      <td>60 دقيقة</td>\n",
       "      <td>66 سعرة حرارية</td>\n",
       "      <td>دجاجتين كبيرتين مغسولتين مقطعتين اربع قط...</td>\n",
       "      <td>تشرح قطع الدجاج بواسطة سكين حاد , الى ان...</td>\n",
       "      <td>https://www.supermama.me/system/App/Entities/R...</td>\n",
       "    </tr>\n",
       "    <tr>\n",
       "      <th>8</th>\n",
       "      <td>ديك رومي مشوي في الفرن</td>\n",
       "      <td>غداء</td>\n",
       "      <td>6 أشخاص</td>\n",
       "      <td>180 دقيقة</td>\n",
       "      <td>400 سعرة حرارية</td>\n",
       "      <td>ديك كامل         زبد مُذاب      عصير برت...</td>\n",
       "      <td>في وعاء كبير، ضعي الماء والسكر والملح وع...</td>\n",
       "      <td>https://www.supermama.me/system/App/Entities/R...</td>\n",
       "    </tr>\n",
       "    <tr>\n",
       "      <th>9</th>\n",
       "      <td>لفائف الباذنجان بالمكرونة</td>\n",
       "      <td>غداء</td>\n",
       "      <td>6 أشخاص</td>\n",
       "      <td>30 دقيقة</td>\n",
       "      <td>401 سعرة حرارية</td>\n",
       "      <td>مكرونة إسباجتي مسلوقة       ثمرات باذنجا...</td>\n",
       "      <td>سخني الفرن عند درجة حرارة 180 درجة مئوية...</td>\n",
       "      <td>https://www.supermama.me/system/App/Entities/R...</td>\n",
       "    </tr>\n",
       "  </tbody>\n",
       "</table>\n",
       "</div>"
      ],
      "text/plain": [
       "                                  اسم الأكله وقت الوجبة      عدد الاشخاص  \\\n",
       "0                   شيش طاووق لذيذ                 غداء      6 أشخاص       \n",
       "1          مكرونة بالدجاج والمشروم                 غداء      4 أشخاص       \n",
       "2                اللازانيا الكسولة                 غداء      4 أشخاص       \n",
       "3               المكرونة بالبشاميل                 غداء      8 أشخاص       \n",
       "4              أرز بالكبد والقوانص                 غداء      4 أشخاص       \n",
       "5                      دجاج كنتاكي                 غداء      6 أشخاص       \n",
       "6              صينية بطاطس بالفراخ                 غداء      4 أشخاص       \n",
       "7                    دجاج تكا مشوي                 غداء      8 أشخاص       \n",
       "8           ديك رومي مشوي في الفرن                 غداء      6 أشخاص       \n",
       "9        لفائف الباذنجان بالمكرونة                 غداء      6 أشخاص       \n",
       "\n",
       "               الوقت             السعرات الحرايه  \\\n",
       "0       40 دقيقة             186 سعرة حرارية       \n",
       "1       30 دقيقة             867 سعرة حرارية       \n",
       "2       30 دقيقة           427.1 سعرة حرارية       \n",
       "3       60 دقيقة          379.81 سعرة حرارية       \n",
       "4       40 دقيقة             624 سعرة حرارية       \n",
       "5       60 دقيقة             205 سعرة حرارية       \n",
       "6       45 دقيقة             274 سعرة حرارية       \n",
       "7       60 دقيقة              66 سعرة حرارية       \n",
       "8      180 دقيقة             400 سعرة حرارية       \n",
       "9       30 دقيقة             401 سعرة حرارية       \n",
       "\n",
       "                                            المقادير  \\\n",
       "0        دجاج مخلي مقطع مكعبات ويفضل الأوراك طبعا...   \n",
       "1             مكرونة بالشكل تفضلينه         مشروم...   \n",
       "2         زيت      خضروات       بصل مفروم       ج...   \n",
       "3         مكرونة مقصوصة       دقيق     لتر  حليب ...   \n",
       "4        كبد وقوانص      أرز      ماء     مكعب مر...   \n",
       "5         أكواب ماء     ملح      معلقة صويا صوص  ...   \n",
       "6        بطاطس     دجاجة مقطعة قطع قطع      جزرات...   \n",
       "7        دجاجتين كبيرتين مغسولتين مقطعتين اربع قط...   \n",
       "8        ديك كامل         زبد مُذاب      عصير برت...   \n",
       "9        مكرونة إسباجتي مسلوقة       ثمرات باذنجا...   \n",
       "\n",
       "                                             التحضير  \\\n",
       "0        تبلي قطع ومكعبات الدجاج بالتتبيلة بعد ما...   \n",
       "1         اسلقي المكرونة، وأضيفي بعض الملح وملعقة...   \n",
       "2        سخني الفرن.   ,   سخني الزيت في إناء يصل...   \n",
       "3        في إناء على النار، سخني السمن جيدًا.  , ...   \n",
       "4        ضعي الزبد على النار، ثم أضيفي البصل وشوح...   \n",
       "5        اخلطي الماء و الصويا و ثلث كوب ملح ، قم ...   \n",
       "6        تبلي الدجاج بالبصل والثوم والبهارات والم...   \n",
       "7        تشرح قطع الدجاج بواسطة سكين حاد , الى ان...   \n",
       "8        في وعاء كبير، ضعي الماء والسكر والملح وع...   \n",
       "9        سخني الفرن عند درجة حرارة 180 درجة مئوية...   \n",
       "\n",
       "                                              الصورة  \n",
       "0  https://www.supermama.me/system/App/Entities/R...  \n",
       "1  https://www.supermama.me/system/App/Entities/R...  \n",
       "2  https://www.supermama.me/system/App/Entities/R...  \n",
       "3  https://www.supermama.me/system/App/Entities/R...  \n",
       "4  https://www.supermama.me/system/App/Entities/R...  \n",
       "5  https://www.supermama.me/system/App/Entities/R...  \n",
       "6  https://www.supermama.me/system/App/Entities/R...  \n",
       "7  https://www.supermama.me/system/App/Entities/R...  \n",
       "8  https://www.supermama.me/system/App/Entities/R...  \n",
       "9  https://www.supermama.me/system/App/Entities/R...  "
      ]
     },
     "execution_count": 67,
     "metadata": {},
     "output_type": "execute_result"
    }
   ],
   "source": [
    "df['المقادير'] = df['المقادير'].apply(cleanText)\n",
    "df.head(10)"
   ]
  },
  {
   "cell_type": "code",
   "execution_count": 68,
   "id": "6557f1ad",
   "metadata": {},
   "outputs": [
    {
     "data": {
      "text/plain": [
       "'      دجاج مخلي مقطع مكعبات ويفضل الأوراك طبعاً     زبادي     مسطردة     بصلة مفرومة      ثوم مهروسين     زعتر     صلصة طماطم     ملح وفلفل     كركم     زيت زيتون     سماق     عصير ليمون خل      '"
      ]
     },
     "execution_count": 68,
     "metadata": {},
     "output_type": "execute_result"
    }
   ],
   "source": [
    "df.iloc[0]['المقادير']"
   ]
  },
  {
   "cell_type": "code",
   "execution_count": 69,
   "id": "a2b224c6",
   "metadata": {},
   "outputs": [],
   "source": [
    "#Remove leading and ending spaces\n",
    "def cleanSpacing(txt):\n",
    "    return txt.strip()\n",
    "\n",
    "for dc in df.columns :\n",
    "    df[dc] = df[dc].apply(cleanSpacing)"
   ]
  },
  {
   "cell_type": "code",
   "execution_count": 78,
   "id": "25deeeff",
   "metadata": {},
   "outputs": [],
   "source": [
    "#Function that creates a mix of the desired metadata\n",
    "def createFeaturesMix(x):\n",
    "    return ''.join(x['اسم الأكله'])+' '+''.join(x['اسم الأكله'])+' '+''.join(x['المقادير'])+' '+''.join(x['السعرات الحرايه'])\n",
    "\n",
    "# Create the new mix feature\n",
    "df['fMix'] = df.apply(createFeaturesMix, axis=1)"
   ]
  },
  {
   "cell_type": "code",
   "execution_count": 79,
   "id": "bbd65a6a",
   "metadata": {},
   "outputs": [],
   "source": [
    "def cleanInsideSpaceing(txt):\n",
    "    txt = ' '.join(txt.split())\n",
    "    return txt\n",
    "\n",
    "df['fMix'] = df['fMix'].apply(cleanInsideSpaceing)\n"
   ]
  },
  {
   "cell_type": "code",
   "execution_count": 80,
   "id": "df8433af",
   "metadata": {},
   "outputs": [
    {
     "data": {
      "text/plain": [
       "'المكرونة بالبشاميل المكرونة بالبشاميل مكرونة مقصوصة دقيق لتر حليب سمن زبد عصاج اللحم المفروم جبن مبشور مشكل 379.81 سعرة حرارية'"
      ]
     },
     "execution_count": 80,
     "metadata": {},
     "output_type": "execute_result"
    }
   ],
   "source": [
    "df.loc[3]['fMix']"
   ]
  },
  {
   "cell_type": "code",
   "execution_count": null,
   "id": "df5b7f04",
   "metadata": {},
   "outputs": [],
   "source": []
  },
  {
   "cell_type": "code",
   "execution_count": 81,
   "id": "6703026c",
   "metadata": {},
   "outputs": [
    {
     "data": {
      "text/plain": [
       "(489, 1977)"
      ]
     },
     "execution_count": 81,
     "metadata": {},
     "output_type": "execute_result"
    }
   ],
   "source": [
    "#Import TfIdfVectorizer from the scikit-learn library\n",
    "from sklearn.feature_extraction.text import TfidfVectorizer\n",
    "\n",
    "tfIdf = TfidfVectorizer()\n",
    "tfIdf_matrix = tfIdf.fit_transform(df['fMix'])\n",
    "tfIdf_matrix.shape"
   ]
  },
  {
   "cell_type": "code",
   "execution_count": 82,
   "id": "de684798",
   "metadata": {},
   "outputs": [
    {
     "data": {
      "text/plain": [
       "array([[1.        , 0.04337083, 0.03735897, ..., 0.05905848, 0.05100989,\n",
       "        0.0241255 ],\n",
       "       [0.04337083, 1.        , 0.03752025, ..., 0.02048112, 0.01006921,\n",
       "        0.07916133],\n",
       "       [0.03735897, 0.03752025, 1.        , ..., 0.05087797, 0.03161631,\n",
       "        0.12375619]])"
      ]
     },
     "execution_count": 82,
     "metadata": {},
     "output_type": "execute_result"
    }
   ],
   "source": [
    "# Import linear_kernel to compute the dot product and cosine similarity matrix\n",
    "from sklearn.metrics.pairwise import linear_kernel\n",
    "\n",
    "cosine_sim = linear_kernel(tfIdf_matrix, tfIdf_matrix)\n",
    "cosine_sim[0:3]"
   ]
  },
  {
   "cell_type": "code",
   "execution_count": 87,
   "id": "96ed4b73",
   "metadata": {},
   "outputs": [
    {
     "data": {
      "text/plain": [
       "اسم الأكله\n",
       "شيش طاووق لذيذ                0\n",
       "مكرونة بالدجاج والمشروم       1\n",
       "اللازانيا الكسولة             2\n",
       "المكرونة بالبشاميل            3\n",
       "أرز بالكبد والقوانص           4\n",
       "دجاج كنتاكي                   5\n",
       "صينية بطاطس بالفراخ           6\n",
       "دجاج تكا مشوي                 7\n",
       "ديك رومي مشوي في الفرن        8\n",
       "لفائف الباذنجان بالمكرونة     9\n",
       "كبسة الفريك                  10\n",
       "عجة بالمخ                    11\n",
       "كبسة بالسجق                  12\n",
       "فسيخ مفروم                   13\n",
       "المندي الأردني               14\n",
       "كريب فاهيتا                  15\n",
       "الفاهيتا المكسيكية           16\n",
       "دجاج باللوز                  17\n",
       "باستا القصدير بالدجاج        18\n",
       "كبسة مكرونة باللحم           19\n",
       "dtype: int64"
      ]
     },
     "execution_count": 87,
     "metadata": {},
     "output_type": "execute_result"
    }
   ],
   "source": [
    "#Construct a reverse mapping of indices and Meal titles, and drop duplicate titles\n",
    "indices = pd.Series(df.index, index=df['اسم الأكله']).drop_duplicates()\n",
    "\n",
    "indices[0:20]"
   ]
  },
  {
   "cell_type": "code",
   "execution_count": 84,
   "id": "60ed889b",
   "metadata": {},
   "outputs": [],
   "source": [
    "# Function that takes in Meal title as input and gives recommendations\n",
    "def contentRecommender(title, cosine_sim=cosine_sim, df=df, indices=indices):\n",
    "    # Obtain the index of the Meal that matches the title\n",
    "    idx = indices[title]\n",
    "    \n",
    "    # Get the pairwsie similarity scores of all Meals with that Meal\n",
    "    # And convert it into a list of tuples \n",
    "    simScores = list(enumerate(cosine_sim[idx])) \n",
    "    \n",
    "    # Sort the Meal based on the cosine similarity scores\n",
    "    simScores = sorted(simScores, key=lambda x: x[1], reverse=True)\n",
    "    \n",
    "    # Get the scores of the 10 most similar Meals. Ignore the first Meal.\n",
    "    simScores = simScores[1:11]\n",
    "    \n",
    "    # Get the Meal indices\n",
    "    mealsIndices = [i[0] for i in simScores]\n",
    "    \n",
    "    # Return the top 10 most similar Meals\n",
    "    return df['اسم الأكله'].iloc[mealsIndices]\n",
    " "
   ]
  },
  {
   "cell_type": "code",
   "execution_count": 88,
   "id": "3484e671",
   "metadata": {},
   "outputs": [
    {
     "data": {
      "text/plain": [
       "62                        المكرونة بالجبن\n",
       "57              مكرونة اسباجيتي بالبشاميل\n",
       "61                       المكرونة العادية\n",
       "33                   بطاطا حلوة بالبشاميل\n",
       "271                طاجن المكرونة بالجمبري\n",
       "358                طاجن المكرونة بالجمبري\n",
       "442                       السجق بالبشاميل\n",
       "475                      قرنبيط بالبشاميل\n",
       "59     المكرونة الإسباجتي بالفراخ والصلصة\n",
       "65                        مقلوبة المكرونة\n",
       "Name: اسم الأكله, dtype: object"
      ]
     },
     "execution_count": 88,
     "metadata": {},
     "output_type": "execute_result"
    }
   ],
   "source": [
    "\n",
    "contentRecommender('المكرونة بالبشاميل')"
   ]
  },
  {
   "cell_type": "code",
   "execution_count": null,
   "id": "4bb0eb53",
   "metadata": {},
   "outputs": [],
   "source": []
  }
 ],
 "metadata": {
  "kernelspec": {
   "display_name": "Python 3 (ipykernel)",
   "language": "python",
   "name": "python3"
  },
  "language_info": {
   "codemirror_mode": {
    "name": "ipython",
    "version": 3
   },
   "file_extension": ".py",
   "mimetype": "text/x-python",
   "name": "python",
   "nbconvert_exporter": "python",
   "pygments_lexer": "ipython3",
   "version": "3.9.7"
  }
 },
 "nbformat": 4,
 "nbformat_minor": 5
}
