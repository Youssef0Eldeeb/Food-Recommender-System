{
 "cells": [
  {
   "cell_type": "code",
   "execution_count": 79,
   "id": "3f00fd3b",
   "metadata": {},
   "outputs": [
    {
     "data": {
      "text/html": [
       "<div>\n",
       "<style scoped>\n",
       "    .dataframe tbody tr th:only-of-type {\n",
       "        vertical-align: middle;\n",
       "    }\n",
       "\n",
       "    .dataframe tbody tr th {\n",
       "        vertical-align: top;\n",
       "    }\n",
       "\n",
       "    .dataframe thead th {\n",
       "        text-align: right;\n",
       "    }\n",
       "</style>\n",
       "<table border=\"1\" class=\"dataframe\">\n",
       "  <thead>\n",
       "    <tr style=\"text-align: right;\">\n",
       "      <th></th>\n",
       "      <th>index</th>\n",
       "      <th>name</th>\n",
       "      <th>time</th>\n",
       "      <th>no_of_ppl</th>\n",
       "      <th>prep_time</th>\n",
       "      <th>caloaries</th>\n",
       "      <th>ingredients</th>\n",
       "      <th>prep</th>\n",
       "      <th>img_link</th>\n",
       "    </tr>\n",
       "  </thead>\n",
       "  <tbody>\n",
       "    <tr>\n",
       "      <th>0</th>\n",
       "      <td>0</td>\n",
       "      <td>شيش طاووق</td>\n",
       "      <td>غداء</td>\n",
       "      <td>6</td>\n",
       "      <td>40</td>\n",
       "      <td>186.00</td>\n",
       "      <td>500 جم دجاج مخلي مقطع مكعبات ويفضل الأور...</td>\n",
       "      <td>تبلي قطع ومكعبات الدجاج بالتتبيلة بعد ما...</td>\n",
       "      <td>https://www.supermama.me/system/App/Entities/R...</td>\n",
       "    </tr>\n",
       "    <tr>\n",
       "      <th>1</th>\n",
       "      <td>1</td>\n",
       "      <td>مكرونة بالدجاج والمشروم</td>\n",
       "      <td>غداء</td>\n",
       "      <td>4</td>\n",
       "      <td>30</td>\n",
       "      <td>867.00</td>\n",
       "      <td>250 جم  مكرونة بالشكل الذي تفضلينه ...</td>\n",
       "      <td>اسلقي المكرونة، وأضيفي بعض الملح وملعقة...</td>\n",
       "      <td>https://www.supermama.me/system/App/Entities/R...</td>\n",
       "    </tr>\n",
       "    <tr>\n",
       "      <th>2</th>\n",
       "      <td>2</td>\n",
       "      <td>اللازانيا</td>\n",
       "      <td>غداء</td>\n",
       "      <td>4</td>\n",
       "      <td>30</td>\n",
       "      <td>427.10</td>\n",
       "      <td>2 ملعقة كبيرة زيت   ,   خضروات   ,  100 جم بص...</td>\n",
       "      <td>سخني الفرن.   ,   سخني الزيت في إناء يصل...</td>\n",
       "      <td>https://www.supermama.me/system/App/Entities/R...</td>\n",
       "    </tr>\n",
       "    <tr>\n",
       "      <th>3</th>\n",
       "      <td>3</td>\n",
       "      <td>المكرونة بالبشاميل</td>\n",
       "      <td>غداء</td>\n",
       "      <td>8</td>\n",
       "      <td>60</td>\n",
       "      <td>379.81</td>\n",
       "      <td>500 جم مكرونة مقصوصة  ,   30 جم دقيق  ,   1000...</td>\n",
       "      <td>في إناء على النار، سخني السمن جيدًا.  , ...</td>\n",
       "      <td>https://www.supermama.me/system/App/Entities/R...</td>\n",
       "    </tr>\n",
       "    <tr>\n",
       "      <th>4</th>\n",
       "      <td>4</td>\n",
       "      <td>أرز بالكبد والقوانص</td>\n",
       "      <td>غداء</td>\n",
       "      <td>4</td>\n",
       "      <td>40</td>\n",
       "      <td>624.00</td>\n",
       "      <td>500 جم كبد وقوانص  ,  300 جم  أرز  ,   2...</td>\n",
       "      <td>ضعي الزبد على النار، ثم أضيفي البصل وشوح...</td>\n",
       "      <td>https://www.supermama.me/system/App/Entities/R...</td>\n",
       "    </tr>\n",
       "    <tr>\n",
       "      <th>5</th>\n",
       "      <td>5</td>\n",
       "      <td>دجاج كنتاكي</td>\n",
       "      <td>غداء</td>\n",
       "      <td>6</td>\n",
       "      <td>60</td>\n",
       "      <td>205.00</td>\n",
       "      <td>2000 مل ماء  ,   90 جم ملح  ,   2 معلقة كبيرة...</td>\n",
       "      <td>اخلطي الماء و الصويا و ثلث كوب ملح ، قم ...</td>\n",
       "      <td>https://www.supermama.me/system/App/Entities/R...</td>\n",
       "    </tr>\n",
       "    <tr>\n",
       "      <th>6</th>\n",
       "      <td>6</td>\n",
       "      <td>صينية بطاطس بالفراخ</td>\n",
       "      <td>غداء</td>\n",
       "      <td>4</td>\n",
       "      <td>45</td>\n",
       "      <td>274.00</td>\n",
       "      <td>1000 جم بطاطس  ,   دجاجة مقطعة إلى أربع قطع أ...</td>\n",
       "      <td>تبلي الدجاج بالبصل والثوم والبهارات والم...</td>\n",
       "      <td>https://www.supermama.me/system/App/Entities/R...</td>\n",
       "    </tr>\n",
       "    <tr>\n",
       "      <th>7</th>\n",
       "      <td>7</td>\n",
       "      <td>دجاج تكا مشوي</td>\n",
       "      <td>غداء</td>\n",
       "      <td>8</td>\n",
       "      <td>60</td>\n",
       "      <td>66.00</td>\n",
       "      <td>دجاجتين كبيرتين مغسولتين و مقطعتين الى اربع ق...</td>\n",
       "      <td>تشرح قطع الدجاج بواسطة سكين حاد , الى ان...</td>\n",
       "      <td>https://www.supermama.me/system/App/Entities/R...</td>\n",
       "    </tr>\n",
       "    <tr>\n",
       "      <th>8</th>\n",
       "      <td>8</td>\n",
       "      <td>ديك رومي مشوي في الفرن</td>\n",
       "      <td>غداء</td>\n",
       "      <td>6</td>\n",
       "      <td>180</td>\n",
       "      <td>400.00</td>\n",
       "      <td>ديك كامل  6000 – 8000 جم   ,   200 جم زبد مُذ...</td>\n",
       "      <td>في وعاء كبير، ضعي الماء والسكر والملح وع...</td>\n",
       "      <td>https://www.supermama.me/system/App/Entities/R...</td>\n",
       "    </tr>\n",
       "    <tr>\n",
       "      <th>9</th>\n",
       "      <td>9</td>\n",
       "      <td>لفائف الباذنجان بالمكرونة</td>\n",
       "      <td>غداء</td>\n",
       "      <td>6</td>\n",
       "      <td>30</td>\n",
       "      <td>401.00</td>\n",
       "      <td>400 جم  إسباجتي مسلوقة   ,   3 ثمرات باذن...</td>\n",
       "      <td>سخني الفرن عند درجة حرارة 180 درجة مئوية...</td>\n",
       "      <td>https://www.supermama.me/system/App/Entities/R...</td>\n",
       "    </tr>\n",
       "  </tbody>\n",
       "</table>\n",
       "</div>"
      ],
      "text/plain": [
       "   index                                       name  time  no_of_ppl  \\\n",
       "0      0                        شيش طاووق            غداء          6   \n",
       "1      1          مكرونة بالدجاج والمشروم            غداء          4   \n",
       "2      2                          اللازانيا          غداء          4   \n",
       "3      3               المكرونة بالبشاميل            غداء          8   \n",
       "4      4              أرز بالكبد والقوانص            غداء          4   \n",
       "5      5                      دجاج كنتاكي            غداء          6   \n",
       "6      6              صينية بطاطس بالفراخ            غداء          4   \n",
       "7      7                    دجاج تكا مشوي            غداء          8   \n",
       "8      8           ديك رومي مشوي في الفرن            غداء          6   \n",
       "9      9        لفائف الباذنجان بالمكرونة            غداء          6   \n",
       "\n",
       "   prep_time  caloaries                                        ingredients  \\\n",
       "0         40     186.00        500 جم دجاج مخلي مقطع مكعبات ويفضل الأور...   \n",
       "1         30     867.00             250 جم  مكرونة بالشكل الذي تفضلينه ...   \n",
       "2         30     427.10   2 ملعقة كبيرة زيت   ,   خضروات   ,  100 جم بص...   \n",
       "3         60     379.81  500 جم مكرونة مقصوصة  ,   30 جم دقيق  ,   1000...   \n",
       "4         40     624.00        500 جم كبد وقوانص  ,  300 جم  أرز  ,   2...   \n",
       "5         60     205.00   2000 مل ماء  ,   90 جم ملح  ,   2 معلقة كبيرة...   \n",
       "6         45     274.00   1000 جم بطاطس  ,   دجاجة مقطعة إلى أربع قطع أ...   \n",
       "7         60      66.00   دجاجتين كبيرتين مغسولتين و مقطعتين الى اربع ق...   \n",
       "8        180     400.00   ديك كامل  6000 – 8000 جم   ,   200 جم زبد مُذ...   \n",
       "9         30     401.00       400 جم  إسباجتي مسلوقة   ,   3 ثمرات باذن...   \n",
       "\n",
       "                                                prep  \\\n",
       "0        تبلي قطع ومكعبات الدجاج بالتتبيلة بعد ما...   \n",
       "1         اسلقي المكرونة، وأضيفي بعض الملح وملعقة...   \n",
       "2        سخني الفرن.   ,   سخني الزيت في إناء يصل...   \n",
       "3        في إناء على النار، سخني السمن جيدًا.  , ...   \n",
       "4        ضعي الزبد على النار، ثم أضيفي البصل وشوح...   \n",
       "5        اخلطي الماء و الصويا و ثلث كوب ملح ، قم ...   \n",
       "6        تبلي الدجاج بالبصل والثوم والبهارات والم...   \n",
       "7        تشرح قطع الدجاج بواسطة سكين حاد , الى ان...   \n",
       "8        في وعاء كبير، ضعي الماء والسكر والملح وع...   \n",
       "9        سخني الفرن عند درجة حرارة 180 درجة مئوية...   \n",
       "\n",
       "                                            img_link  \n",
       "0  https://www.supermama.me/system/App/Entities/R...  \n",
       "1  https://www.supermama.me/system/App/Entities/R...  \n",
       "2  https://www.supermama.me/system/App/Entities/R...  \n",
       "3  https://www.supermama.me/system/App/Entities/R...  \n",
       "4  https://www.supermama.me/system/App/Entities/R...  \n",
       "5  https://www.supermama.me/system/App/Entities/R...  \n",
       "6  https://www.supermama.me/system/App/Entities/R...  \n",
       "7  https://www.supermama.me/system/App/Entities/R...  \n",
       "8  https://www.supermama.me/system/App/Entities/R...  \n",
       "9  https://www.supermama.me/system/App/Entities/R...  "
      ]
     },
     "execution_count": 79,
     "metadata": {},
     "output_type": "execute_result"
    }
   ],
   "source": [
    "import pandas as pd\n",
    "import numpy as np\n",
    "\n",
    "df = pd.read_csv('foods.csv')\n",
    "df.head(10)"
   ]
  },
  {
   "cell_type": "code",
   "execution_count": 80,
   "id": "01e46ba0",
   "metadata": {},
   "outputs": [],
   "source": [
    "# df = df.drop('index',axis=1)\n",
    "# df.head()"
   ]
  },
  {
   "cell_type": "code",
   "execution_count": 81,
   "id": "cc91e1e0",
   "metadata": {},
   "outputs": [
    {
     "data": {
      "text/plain": [
       "index          0\n",
       "name           0\n",
       "time           0\n",
       "no_of_ppl      0\n",
       "prep_time      0\n",
       "caloaries      0\n",
       "ingredients    0\n",
       "prep           0\n",
       "img_link       0\n",
       "dtype: int64"
      ]
     },
     "execution_count": 81,
     "metadata": {},
     "output_type": "execute_result"
    }
   ],
   "source": [
    "#check for null values\n",
    "df.isnull().sum()"
   ]
  },
  {
   "cell_type": "code",
   "execution_count": 82,
   "id": "42280c64",
   "metadata": {},
   "outputs": [
    {
     "data": {
      "text/plain": [
       "' ديك كامل  6000 – 8000 جم   ,   200 جم زبد مُذاب.  ,   250 مل عصير برتقال.  ,   بصلة كبيرة مقطعة شرائح رفيعة.  ,   3 ثمرات كرفس مقطعة شرائح.  ,   25 جم زعتر طازج مفروم.  ,   2 ملعقة كبيرة روزماري طازج مفروم.  ,  1 ملعقة كبيرة  ثوم مفروم.  ,  1 ملعقة صغيرة  بابريكا.  , 1  ملعقة صغيرة  السبعة بهارات.  ,  1 ملعقة صغيرة  كاري.  ,   ملح وفلفل أسود.      '"
      ]
     },
     "execution_count": 82,
     "metadata": {},
     "output_type": "execute_result"
    }
   ],
   "source": [
    "df.iloc[8]['ingredients']"
   ]
  },
  {
   "cell_type": "code",
   "execution_count": 83,
   "id": "41da10f4",
   "metadata": {},
   "outputs": [],
   "source": [
    "# Data Normalization\n",
    "import unicodedata as ud\n",
    "import re\n",
    "\n",
    "def cleanText(txt):\n",
    "    #Remove Punctuations\n",
    "    puncText = ''.join(c for c in txt if not ud.category(c).startswith('P'))\n",
    "    \n",
    "    tokenText1 = puncText.split(' ')\n",
    "    #Remove StopWord\n",
    "    SWList = []\n",
    "    stopWordList = open(\"arabic-stop-words.txt\").read().splitlines()\n",
    "    for token in tokenText1:\n",
    "        if token not in stopWordList:\n",
    "            SWList.append(token)\n",
    "    SWText = ' '.join(SWList)\n",
    "    \n",
    "    #Remove arabic number\n",
    "    ctxt = re.sub('[\\u0660-\\u0669]','',SWText)\n",
    "    \n",
    "    #Remove English number\n",
    "    ctxt = re.sub('[0-9]+','',ctxt)\n",
    "    \n",
    "    newtxt = []\n",
    "    filterWords = open(\"Filtered-Words.txt\").read().splitlines()\n",
    "    tokenText2 = ctxt.split(' ') \n",
    "    for token in tokenText2:\n",
    "        if token not in filterWords:\n",
    "            newtxt.append(token)\n",
    "    newtxt = ' '.join(newtxt)\n",
    "    \n",
    "    return newtxt\n",
    "    "
   ]
  },
  {
   "cell_type": "code",
   "execution_count": 84,
   "id": "80b345cf",
   "metadata": {},
   "outputs": [
    {
     "data": {
      "text/plain": [
       "' ديك كامل           زبد مُذاب      عصير برتقال     بصلة مقطعة رفيعة      ثمرات كرفس مقطعة      زعتر طازج مفروم      روزماري طازج مفروم      ثوم مفروم      بابريكا      السبعة بهارات      كاري     ملح وفلفل أسود      '"
      ]
     },
     "execution_count": 84,
     "metadata": {},
     "output_type": "execute_result"
    }
   ],
   "source": [
    "df['ingredients'] = df['ingredients'].apply(cleanText)\n",
    "df.iloc[8]['ingredients']"
   ]
  },
  {
   "cell_type": "code",
   "execution_count": 85,
   "id": "987aede4",
   "metadata": {},
   "outputs": [
    {
     "data": {
      "text/plain": [
       "'      المكرونة بالبشاميل          '"
      ]
     },
     "execution_count": 85,
     "metadata": {},
     "output_type": "execute_result"
    }
   ],
   "source": [
    "df['name'][3]"
   ]
  },
  {
   "cell_type": "code",
   "execution_count": 86,
   "id": "a2b224c6",
   "metadata": {},
   "outputs": [],
   "source": [
    "#Remove leading and ending spaces\n",
    "def cleanSpacing(txt):\n",
    "    return txt.strip()\n",
    "\n",
    "for dc in 'name','ingredients','prep':\n",
    "    df[dc] = df[dc].apply(cleanSpacing)"
   ]
  },
  {
   "cell_type": "code",
   "execution_count": 87,
   "id": "8349da89",
   "metadata": {},
   "outputs": [
    {
     "data": {
      "text/plain": [
       "'المكرونة بالبشاميل'"
      ]
     },
     "execution_count": 87,
     "metadata": {},
     "output_type": "execute_result"
    }
   ],
   "source": [
    "df['name'][3]"
   ]
  },
  {
   "cell_type": "code",
   "execution_count": 111,
   "id": "71779408",
   "metadata": {},
   "outputs": [
    {
     "data": {
      "text/plain": [
       "'شيش طاووق شيش طاووق دجاج مخلي مقطع مكعبات ويفضل الأوراك طبعاً      زبادي      معلقة   مسطردة      بصلة مفرومة      ثوم مهروسين      معلقة   زعتر     صلصة طماطم     ملح وفلفل    كركم      معلقة   زيت زيتون     سماق     عصير ليمون  خل 186.0'"
      ]
     },
     "execution_count": 111,
     "metadata": {},
     "output_type": "execute_result"
    }
   ],
   "source": [
    "#Function that creates a mix of the desired metadata\n",
    "def createFeaturesMix(x):\n",
    "    return ''.join(x['name'])+' '+''.join(x['name'])+' '+''.join(x['ingredients'])+' '+''.join(str(x['caloaries']))\n",
    "\n",
    "# Create the new mix feature\n",
    "df['fMix'] = df.apply(createFeaturesMix, axis=1)\n",
    "df['fMix'][0]"
   ]
  },
  {
   "cell_type": "code",
   "execution_count": 113,
   "id": "bbd65a6a",
   "metadata": {},
   "outputs": [],
   "source": [
    "def cleanInsideSpaceing(txt):\n",
    "    txt = ' '.join(txt.split())\n",
    "    return txt\n",
    "\n",
    "df['fMix'] = df['fMix'].apply(cleanInsideSpaceing)\n"
   ]
  },
  {
   "cell_type": "code",
   "execution_count": 114,
   "id": "df8433af",
   "metadata": {},
   "outputs": [
    {
     "data": {
      "text/plain": [
       "'المكرونة بالبشاميل المكرونة بالبشاميل مكرونة مقصوصة دقيق حليب سمن زبد عصاج اللحم المفروم جبن مبشور مشكل 379.81'"
      ]
     },
     "execution_count": 114,
     "metadata": {},
     "output_type": "execute_result"
    }
   ],
   "source": [
    "df.loc[3]['fMix']"
   ]
  },
  {
   "cell_type": "code",
   "execution_count": null,
   "id": "df5b7f04",
   "metadata": {},
   "outputs": [],
   "source": []
  },
  {
   "cell_type": "code",
   "execution_count": 115,
   "id": "6703026c",
   "metadata": {},
   "outputs": [
    {
     "data": {
      "text/plain": [
       "(489, 1870)"
      ]
     },
     "execution_count": 115,
     "metadata": {},
     "output_type": "execute_result"
    }
   ],
   "source": [
    "#Import TfIdfVectorizer from the scikit-learn library\n",
    "from sklearn.feature_extraction.text import TfidfVectorizer\n",
    "\n",
    "tfIdf = TfidfVectorizer()\n",
    "tfIdf_matrix = tfIdf.fit_transform(df['fMix'])\n",
    "tfIdf_matrix.shape"
   ]
  },
  {
   "cell_type": "code",
   "execution_count": 116,
   "id": "de684798",
   "metadata": {},
   "outputs": [
    {
     "data": {
      "text/plain": [
       "array([[1.        , 0.04501737, 0.04318909, ..., 0.0615737 , 0.0532186 ,\n",
       "        0.02316487],\n",
       "       [0.04501737, 1.        , 0.04280801, ..., 0.01963235, 0.00892294,\n",
       "        0.08006594],\n",
       "       [0.04318909, 0.04280801, 1.        , ..., 0.0552077 , 0.03332726,\n",
       "        0.13820187]])"
      ]
     },
     "execution_count": 116,
     "metadata": {},
     "output_type": "execute_result"
    }
   ],
   "source": [
    "# Import linear_kernel to compute the dot product and cosine similarity matrix\n",
    "from sklearn.metrics.pairwise import linear_kernel\n",
    "\n",
    "cosine_sim = linear_kernel(tfIdf_matrix, tfIdf_matrix)\n",
    "cosine_sim[0:3]"
   ]
  },
  {
   "cell_type": "code",
   "execution_count": 118,
   "id": "96ed4b73",
   "metadata": {},
   "outputs": [
    {
     "data": {
      "text/plain": [
       "name\n",
       "شيش طاووق                     0\n",
       "مكرونة بالدجاج والمشروم       1\n",
       "اللازانيا                     2\n",
       "المكرونة بالبشاميل            3\n",
       "أرز بالكبد والقوانص           4\n",
       "دجاج كنتاكي                   5\n",
       "صينية بطاطس بالفراخ           6\n",
       "دجاج تكا مشوي                 7\n",
       "ديك رومي مشوي في الفرن        8\n",
       "لفائف الباذنجان بالمكرونة     9\n",
       "كبسة الفريك                  10\n",
       "عجة بالمخ                    11\n",
       "كبسة بالسجق                  12\n",
       "فسيخ مفروم                   13\n",
       "المندي الأردني               14\n",
       "كريب فاهيتا                  15\n",
       "الفاهيتا المكسيكية           16\n",
       "دجاج باللوز                  17\n",
       "باستا القصدير بالدجاج        18\n",
       "كبسة مكرونة باللحم           19\n",
       "dtype: int64"
      ]
     },
     "execution_count": 118,
     "metadata": {},
     "output_type": "execute_result"
    }
   ],
   "source": [
    "#Construct a reverse mapping of indices and Meal titles, and drop duplicate titles\n",
    "indices = pd.Series(df.index, index=df['name']).drop_duplicates()\n",
    "\n",
    "indices[0:20]"
   ]
  },
  {
   "cell_type": "code",
   "execution_count": 119,
   "id": "60ed889b",
   "metadata": {},
   "outputs": [],
   "source": [
    "# Function that takes in Meal title as input and gives recommendations\n",
    "def contentRecommender(title, cosine_sim=cosine_sim, df=df, indices=indices):\n",
    "    # Obtain the index of the Meal that matches the title\n",
    "    idx = indices[title]\n",
    "    \n",
    "    # Get the pairwsie similarity scores of all Meals with that Meal\n",
    "    # And convert it into a list of tuples \n",
    "    simScores = list(enumerate(cosine_sim[idx])) \n",
    "    \n",
    "    # Sort the Meal based on the cosine similarity scores\n",
    "    simScores = sorted(simScores, key=lambda x: x[1], reverse=True)\n",
    "    \n",
    "    # Get the scores of the 10 most similar Meals. Ignore the first Meal.\n",
    "    simScores = simScores[1:11]\n",
    "    \n",
    "    # Get the Meal indices\n",
    "    mealsIndices = [i[0] for i in simScores]\n",
    "    \n",
    "    # Return the top 10 most similar Meals\n",
    "    return df['name'].iloc[mealsIndices]\n",
    " "
   ]
  },
  {
   "cell_type": "code",
   "execution_count": 120,
   "id": "3484e671",
   "metadata": {},
   "outputs": [
    {
     "data": {
      "text/plain": [
       "62                        المكرونة بالجبن\n",
       "57              مكرونة اسباجيتي بالبشاميل\n",
       "33                   بطاطا حلوة بالبشاميل\n",
       "61                       المكرونة العادية\n",
       "271                طاجن المكرونة بالجمبري\n",
       "358                طاجن المكرونة بالجمبري\n",
       "475                      قرنبيط بالبشاميل\n",
       "442                       السجق بالبشاميل\n",
       "59     المكرونة الإسباجتي بالفراخ والصلصة\n",
       "451                       تورلي بالبشاميل\n",
       "Name: name, dtype: object"
      ]
     },
     "execution_count": 120,
     "metadata": {},
     "output_type": "execute_result"
    }
   ],
   "source": [
    "\n",
    "contentRecommender('المكرونة بالبشاميل')"
   ]
  },
  {
   "cell_type": "code",
   "execution_count": null,
   "id": "4bb0eb53",
   "metadata": {},
   "outputs": [],
   "source": []
  }
 ],
 "metadata": {
  "kernelspec": {
   "display_name": "Python 3 (ipykernel)",
   "language": "python",
   "name": "python3"
  },
  "language_info": {
   "codemirror_mode": {
    "name": "ipython",
    "version": 3
   },
   "file_extension": ".py",
   "mimetype": "text/x-python",
   "name": "python",
   "nbconvert_exporter": "python",
   "pygments_lexer": "ipython3",
   "version": "3.9.7"
  }
 },
 "nbformat": 4,
 "nbformat_minor": 5
}
